{
 "cells": [
  {
   "cell_type": "markdown",
   "id": "fa7a5f12",
   "metadata": {},
   "source": [
    "# Milk Quality Dataset"
   ]
  },
  {
   "cell_type": "markdown",
   "id": "c36ce2b9",
   "metadata": {},
   "source": [
    "#### My goal in this project is to design a machine learning model that makes a prediction based on the milk quality data."
   ]
  },
  {
   "cell_type": "markdown",
   "id": "d0ae0727",
   "metadata": {},
   "source": [
    "# Import library"
   ]
  },
  {
   "cell_type": "code",
   "execution_count": 1,
   "id": "f5d18a27",
   "metadata": {},
   "outputs": [],
   "source": [
    "import numpy as np                       # linear algebra\n",
    "import pandas as pd                      # data processing and Manipulation\n",
    "import seaborn as sns                    # Data visualization\n",
    "import matplotlib.pyplot as plt          # Data visualization\n",
    "import warnings                          # Hiding Warnings\n",
    "warnings.filterwarnings('ignore')"
   ]
  },
  {
   "cell_type": "markdown",
   "id": "916cbe26",
   "metadata": {},
   "source": [
    "# Importing dataset"
   ]
  },
  {
   "cell_type": "code",
   "execution_count": 2,
   "id": "9fa0d4c5",
   "metadata": {},
   "outputs": [],
   "source": [
    "# loading the diabetes dataset to a pandas DataFrame.\n",
    "\n",
    "m = pd.read_csv(\"C:/Users/I.A.T COMPUTERS LLC/Downloads/milk.csv\")"
   ]
  },
  {
   "cell_type": "code",
   "execution_count": 3,
   "id": "51139f74",
   "metadata": {},
   "outputs": [
    {
     "data": {
      "text/html": [
       "<div>\n",
       "<style scoped>\n",
       "    .dataframe tbody tr th:only-of-type {\n",
       "        vertical-align: middle;\n",
       "    }\n",
       "\n",
       "    .dataframe tbody tr th {\n",
       "        vertical-align: top;\n",
       "    }\n",
       "\n",
       "    .dataframe thead th {\n",
       "        text-align: right;\n",
       "    }\n",
       "</style>\n",
       "<table border=\"1\" class=\"dataframe\">\n",
       "  <thead>\n",
       "    <tr style=\"text-align: right;\">\n",
       "      <th></th>\n",
       "      <th>pH</th>\n",
       "      <th>Temprature</th>\n",
       "      <th>Taste</th>\n",
       "      <th>Odor</th>\n",
       "      <th>Fat</th>\n",
       "      <th>Turbidity</th>\n",
       "      <th>Colour</th>\n",
       "      <th>Grade</th>\n",
       "    </tr>\n",
       "  </thead>\n",
       "  <tbody>\n",
       "    <tr>\n",
       "      <th>0</th>\n",
       "      <td>6.6</td>\n",
       "      <td>35</td>\n",
       "      <td>1</td>\n",
       "      <td>0</td>\n",
       "      <td>1</td>\n",
       "      <td>0</td>\n",
       "      <td>254</td>\n",
       "      <td>high</td>\n",
       "    </tr>\n",
       "    <tr>\n",
       "      <th>1</th>\n",
       "      <td>6.6</td>\n",
       "      <td>36</td>\n",
       "      <td>0</td>\n",
       "      <td>1</td>\n",
       "      <td>0</td>\n",
       "      <td>1</td>\n",
       "      <td>253</td>\n",
       "      <td>high</td>\n",
       "    </tr>\n",
       "    <tr>\n",
       "      <th>2</th>\n",
       "      <td>8.5</td>\n",
       "      <td>70</td>\n",
       "      <td>1</td>\n",
       "      <td>1</td>\n",
       "      <td>1</td>\n",
       "      <td>1</td>\n",
       "      <td>246</td>\n",
       "      <td>low</td>\n",
       "    </tr>\n",
       "    <tr>\n",
       "      <th>3</th>\n",
       "      <td>9.5</td>\n",
       "      <td>34</td>\n",
       "      <td>1</td>\n",
       "      <td>1</td>\n",
       "      <td>0</td>\n",
       "      <td>1</td>\n",
       "      <td>255</td>\n",
       "      <td>low</td>\n",
       "    </tr>\n",
       "    <tr>\n",
       "      <th>4</th>\n",
       "      <td>6.6</td>\n",
       "      <td>37</td>\n",
       "      <td>0</td>\n",
       "      <td>0</td>\n",
       "      <td>0</td>\n",
       "      <td>0</td>\n",
       "      <td>255</td>\n",
       "      <td>medium</td>\n",
       "    </tr>\n",
       "    <tr>\n",
       "      <th>...</th>\n",
       "      <td>...</td>\n",
       "      <td>...</td>\n",
       "      <td>...</td>\n",
       "      <td>...</td>\n",
       "      <td>...</td>\n",
       "      <td>...</td>\n",
       "      <td>...</td>\n",
       "      <td>...</td>\n",
       "    </tr>\n",
       "    <tr>\n",
       "      <th>1054</th>\n",
       "      <td>6.7</td>\n",
       "      <td>45</td>\n",
       "      <td>1</td>\n",
       "      <td>1</td>\n",
       "      <td>0</td>\n",
       "      <td>0</td>\n",
       "      <td>247</td>\n",
       "      <td>medium</td>\n",
       "    </tr>\n",
       "    <tr>\n",
       "      <th>1055</th>\n",
       "      <td>6.7</td>\n",
       "      <td>38</td>\n",
       "      <td>1</td>\n",
       "      <td>0</td>\n",
       "      <td>1</td>\n",
       "      <td>0</td>\n",
       "      <td>255</td>\n",
       "      <td>high</td>\n",
       "    </tr>\n",
       "    <tr>\n",
       "      <th>1056</th>\n",
       "      <td>3.0</td>\n",
       "      <td>40</td>\n",
       "      <td>1</td>\n",
       "      <td>1</td>\n",
       "      <td>1</td>\n",
       "      <td>1</td>\n",
       "      <td>255</td>\n",
       "      <td>low</td>\n",
       "    </tr>\n",
       "    <tr>\n",
       "      <th>1057</th>\n",
       "      <td>6.8</td>\n",
       "      <td>43</td>\n",
       "      <td>1</td>\n",
       "      <td>0</td>\n",
       "      <td>1</td>\n",
       "      <td>0</td>\n",
       "      <td>250</td>\n",
       "      <td>high</td>\n",
       "    </tr>\n",
       "    <tr>\n",
       "      <th>1058</th>\n",
       "      <td>8.6</td>\n",
       "      <td>55</td>\n",
       "      <td>0</td>\n",
       "      <td>1</td>\n",
       "      <td>1</td>\n",
       "      <td>1</td>\n",
       "      <td>255</td>\n",
       "      <td>low</td>\n",
       "    </tr>\n",
       "  </tbody>\n",
       "</table>\n",
       "<p>1059 rows × 8 columns</p>\n",
       "</div>"
      ],
      "text/plain": [
       "       pH  Temprature  Taste  Odor  Fat   Turbidity  Colour   Grade\n",
       "0     6.6          35      1     0     1          0     254    high\n",
       "1     6.6          36      0     1     0          1     253    high\n",
       "2     8.5          70      1     1     1          1     246     low\n",
       "3     9.5          34      1     1     0          1     255     low\n",
       "4     6.6          37      0     0     0          0     255  medium\n",
       "...   ...         ...    ...   ...   ...        ...     ...     ...\n",
       "1054  6.7          45      1     1     0          0     247  medium\n",
       "1055  6.7          38      1     0     1          0     255    high\n",
       "1056  3.0          40      1     1     1          1     255     low\n",
       "1057  6.8          43      1     0     1          0     250    high\n",
       "1058  8.6          55      0     1     1          1     255     low\n",
       "\n",
       "[1059 rows x 8 columns]"
      ]
     },
     "execution_count": 3,
     "metadata": {},
     "output_type": "execute_result"
    }
   ],
   "source": [
    "m"
   ]
  },
  {
   "cell_type": "markdown",
   "id": "7a698c1d",
   "metadata": {},
   "source": [
    "# Atrribute Information"
   ]
  },
  {
   "cell_type": "code",
   "execution_count": null,
   "id": "51ac8c10",
   "metadata": {},
   "outputs": [],
   "source": [
    "1) pH : This Column defines PH valus of the milk which ranges from 3 to 9.5 max : 6.25 to 6.90\n",
    "\n",
    "2) Temprature : This Column defines Temprature of the milk which ranges from 34'C to 90'C max : 34'C to 45.20'C\n",
    "\n",
    "3) Taste : This Column defines Taste of the milk which is categorical data 0 (Bad) or 1 (Good) max : 1 (Good)\n",
    "\n",
    "4) Odor : This Column defines Odor of the milk which is categorical data 0 (Bad) or 1 (Good) max : 0 (Bad)\n",
    "\n",
    "5) Fat : This Column defines Odor of the milk which is categorical data 0 (Low) or 1 (High) max : 1 (High)\n",
    "\n",
    "6) Turbidity : This Column defines Turbidity of the milk which is categorical data 0 (Low) or 1 (High) max : 1 (High)\n",
    "\n",
    "7) Colour : This Column defines Colour of the milk which ranges from 240 to 255 max : 255\n",
    "\n",
    "8) Grade : This Column defines Grade (Target) of the milk which is categorical data Where Low (Bad) or Medium (Moderate) \n",
    "High."
   ]
  },
  {
   "cell_type": "code",
   "execution_count": 4,
   "id": "a130c704",
   "metadata": {},
   "outputs": [
    {
     "data": {
      "text/html": [
       "<div>\n",
       "<style scoped>\n",
       "    .dataframe tbody tr th:only-of-type {\n",
       "        vertical-align: middle;\n",
       "    }\n",
       "\n",
       "    .dataframe tbody tr th {\n",
       "        vertical-align: top;\n",
       "    }\n",
       "\n",
       "    .dataframe thead th {\n",
       "        text-align: right;\n",
       "    }\n",
       "</style>\n",
       "<table border=\"1\" class=\"dataframe\">\n",
       "  <thead>\n",
       "    <tr style=\"text-align: right;\">\n",
       "      <th></th>\n",
       "      <th>pH</th>\n",
       "      <th>Temprature</th>\n",
       "      <th>Taste</th>\n",
       "      <th>Odor</th>\n",
       "      <th>Fat</th>\n",
       "      <th>Turbidity</th>\n",
       "      <th>Colour</th>\n",
       "      <th>Grade</th>\n",
       "    </tr>\n",
       "  </thead>\n",
       "  <tbody>\n",
       "    <tr>\n",
       "      <th>0</th>\n",
       "      <td>6.6</td>\n",
       "      <td>35</td>\n",
       "      <td>1</td>\n",
       "      <td>0</td>\n",
       "      <td>1</td>\n",
       "      <td>0</td>\n",
       "      <td>254</td>\n",
       "      <td>high</td>\n",
       "    </tr>\n",
       "    <tr>\n",
       "      <th>1</th>\n",
       "      <td>6.6</td>\n",
       "      <td>36</td>\n",
       "      <td>0</td>\n",
       "      <td>1</td>\n",
       "      <td>0</td>\n",
       "      <td>1</td>\n",
       "      <td>253</td>\n",
       "      <td>high</td>\n",
       "    </tr>\n",
       "    <tr>\n",
       "      <th>2</th>\n",
       "      <td>8.5</td>\n",
       "      <td>70</td>\n",
       "      <td>1</td>\n",
       "      <td>1</td>\n",
       "      <td>1</td>\n",
       "      <td>1</td>\n",
       "      <td>246</td>\n",
       "      <td>low</td>\n",
       "    </tr>\n",
       "    <tr>\n",
       "      <th>3</th>\n",
       "      <td>9.5</td>\n",
       "      <td>34</td>\n",
       "      <td>1</td>\n",
       "      <td>1</td>\n",
       "      <td>0</td>\n",
       "      <td>1</td>\n",
       "      <td>255</td>\n",
       "      <td>low</td>\n",
       "    </tr>\n",
       "    <tr>\n",
       "      <th>4</th>\n",
       "      <td>6.6</td>\n",
       "      <td>37</td>\n",
       "      <td>0</td>\n",
       "      <td>0</td>\n",
       "      <td>0</td>\n",
       "      <td>0</td>\n",
       "      <td>255</td>\n",
       "      <td>medium</td>\n",
       "    </tr>\n",
       "  </tbody>\n",
       "</table>\n",
       "</div>"
      ],
      "text/plain": [
       "    pH  Temprature  Taste  Odor  Fat   Turbidity  Colour   Grade\n",
       "0  6.6          35      1     0     1          0     254    high\n",
       "1  6.6          36      0     1     0          1     253    high\n",
       "2  8.5          70      1     1     1          1     246     low\n",
       "3  9.5          34      1     1     0          1     255     low\n",
       "4  6.6          37      0     0     0          0     255  medium"
      ]
     },
     "execution_count": 4,
     "metadata": {},
     "output_type": "execute_result"
    }
   ],
   "source": [
    "# printing the first 5 rows of the dataset.\n",
    "\n",
    "m.head()"
   ]
  },
  {
   "cell_type": "code",
   "execution_count": 5,
   "id": "1c47f32d",
   "metadata": {},
   "outputs": [
    {
     "data": {
      "text/html": [
       "<div>\n",
       "<style scoped>\n",
       "    .dataframe tbody tr th:only-of-type {\n",
       "        vertical-align: middle;\n",
       "    }\n",
       "\n",
       "    .dataframe tbody tr th {\n",
       "        vertical-align: top;\n",
       "    }\n",
       "\n",
       "    .dataframe thead th {\n",
       "        text-align: right;\n",
       "    }\n",
       "</style>\n",
       "<table border=\"1\" class=\"dataframe\">\n",
       "  <thead>\n",
       "    <tr style=\"text-align: right;\">\n",
       "      <th></th>\n",
       "      <th>pH</th>\n",
       "      <th>Temprature</th>\n",
       "      <th>Taste</th>\n",
       "      <th>Odor</th>\n",
       "      <th>Fat</th>\n",
       "      <th>Turbidity</th>\n",
       "      <th>Colour</th>\n",
       "      <th>Grade</th>\n",
       "    </tr>\n",
       "  </thead>\n",
       "  <tbody>\n",
       "    <tr>\n",
       "      <th>1054</th>\n",
       "      <td>6.7</td>\n",
       "      <td>45</td>\n",
       "      <td>1</td>\n",
       "      <td>1</td>\n",
       "      <td>0</td>\n",
       "      <td>0</td>\n",
       "      <td>247</td>\n",
       "      <td>medium</td>\n",
       "    </tr>\n",
       "    <tr>\n",
       "      <th>1055</th>\n",
       "      <td>6.7</td>\n",
       "      <td>38</td>\n",
       "      <td>1</td>\n",
       "      <td>0</td>\n",
       "      <td>1</td>\n",
       "      <td>0</td>\n",
       "      <td>255</td>\n",
       "      <td>high</td>\n",
       "    </tr>\n",
       "    <tr>\n",
       "      <th>1056</th>\n",
       "      <td>3.0</td>\n",
       "      <td>40</td>\n",
       "      <td>1</td>\n",
       "      <td>1</td>\n",
       "      <td>1</td>\n",
       "      <td>1</td>\n",
       "      <td>255</td>\n",
       "      <td>low</td>\n",
       "    </tr>\n",
       "    <tr>\n",
       "      <th>1057</th>\n",
       "      <td>6.8</td>\n",
       "      <td>43</td>\n",
       "      <td>1</td>\n",
       "      <td>0</td>\n",
       "      <td>1</td>\n",
       "      <td>0</td>\n",
       "      <td>250</td>\n",
       "      <td>high</td>\n",
       "    </tr>\n",
       "    <tr>\n",
       "      <th>1058</th>\n",
       "      <td>8.6</td>\n",
       "      <td>55</td>\n",
       "      <td>0</td>\n",
       "      <td>1</td>\n",
       "      <td>1</td>\n",
       "      <td>1</td>\n",
       "      <td>255</td>\n",
       "      <td>low</td>\n",
       "    </tr>\n",
       "  </tbody>\n",
       "</table>\n",
       "</div>"
      ],
      "text/plain": [
       "       pH  Temprature  Taste  Odor  Fat   Turbidity  Colour   Grade\n",
       "1054  6.7          45      1     1     0          0     247  medium\n",
       "1055  6.7          38      1     0     1          0     255    high\n",
       "1056  3.0          40      1     1     1          1     255     low\n",
       "1057  6.8          43      1     0     1          0     250    high\n",
       "1058  8.6          55      0     1     1          1     255     low"
      ]
     },
     "execution_count": 5,
     "metadata": {},
     "output_type": "execute_result"
    }
   ],
   "source": [
    "# Printing the last 5 rows of the dataset.\n",
    "\n",
    "m.tail()"
   ]
  },
  {
   "cell_type": "code",
   "execution_count": 6,
   "id": "c6ad6225",
   "metadata": {},
   "outputs": [
    {
     "data": {
      "text/plain": [
       "(1059, 8)"
      ]
     },
     "execution_count": 6,
     "metadata": {},
     "output_type": "execute_result"
    }
   ],
   "source": [
    "# number of rows and Columns in this dataset.\n",
    "\n",
    "m.shape"
   ]
  },
  {
   "cell_type": "code",
   "execution_count": 7,
   "id": "926f89a4",
   "metadata": {},
   "outputs": [
    {
     "data": {
      "text/plain": [
       "8472"
      ]
     },
     "execution_count": 7,
     "metadata": {},
     "output_type": "execute_result"
    }
   ],
   "source": [
    "# Multiplication of row and column.\n",
    "\n",
    "m.size"
   ]
  },
  {
   "cell_type": "code",
   "execution_count": 8,
   "id": "eea039fa",
   "metadata": {},
   "outputs": [
    {
     "data": {
      "text/plain": [
       "Index(['pH', 'Temprature', 'Taste', 'Odor', 'Fat ', 'Turbidity', 'Colour',\n",
       "       'Grade'],\n",
       "      dtype='object')"
      ]
     },
     "execution_count": 8,
     "metadata": {},
     "output_type": "execute_result"
    }
   ],
   "source": [
    "# Printing the columns of variable name.\n",
    "\n",
    "m.columns"
   ]
  },
  {
   "cell_type": "code",
   "execution_count": 9,
   "id": "bde0e5a4",
   "metadata": {},
   "outputs": [
    {
     "name": "stdout",
     "output_type": "stream",
     "text": [
      "<class 'pandas.core.frame.DataFrame'>\n",
      "RangeIndex: 1059 entries, 0 to 1058\n",
      "Data columns (total 8 columns):\n",
      " #   Column      Non-Null Count  Dtype  \n",
      "---  ------      --------------  -----  \n",
      " 0   pH          1059 non-null   float64\n",
      " 1   Temprature  1059 non-null   int64  \n",
      " 2   Taste       1059 non-null   int64  \n",
      " 3   Odor        1059 non-null   int64  \n",
      " 4   Fat         1059 non-null   int64  \n",
      " 5   Turbidity   1059 non-null   int64  \n",
      " 6   Colour      1059 non-null   int64  \n",
      " 7   Grade       1059 non-null   object \n",
      "dtypes: float64(1), int64(6), object(1)\n",
      "memory usage: 66.3+ KB\n"
     ]
    }
   ],
   "source": [
    "# Check data type and shape of every column.\n",
    "\n",
    "m.info()"
   ]
  },
  {
   "cell_type": "code",
   "execution_count": 10,
   "id": "811241aa",
   "metadata": {},
   "outputs": [
    {
     "data": {
      "text/html": [
       "<div>\n",
       "<style scoped>\n",
       "    .dataframe tbody tr th:only-of-type {\n",
       "        vertical-align: middle;\n",
       "    }\n",
       "\n",
       "    .dataframe tbody tr th {\n",
       "        vertical-align: top;\n",
       "    }\n",
       "\n",
       "    .dataframe thead th {\n",
       "        text-align: right;\n",
       "    }\n",
       "</style>\n",
       "<table border=\"1\" class=\"dataframe\">\n",
       "  <thead>\n",
       "    <tr style=\"text-align: right;\">\n",
       "      <th></th>\n",
       "      <th>pH</th>\n",
       "      <th>Temprature</th>\n",
       "      <th>Taste</th>\n",
       "      <th>Odor</th>\n",
       "      <th>Fat</th>\n",
       "      <th>Turbidity</th>\n",
       "      <th>Colour</th>\n",
       "    </tr>\n",
       "  </thead>\n",
       "  <tbody>\n",
       "    <tr>\n",
       "      <th>count</th>\n",
       "      <td>1059.000000</td>\n",
       "      <td>1059.000000</td>\n",
       "      <td>1059.000000</td>\n",
       "      <td>1059.000000</td>\n",
       "      <td>1059.000000</td>\n",
       "      <td>1059.000000</td>\n",
       "      <td>1059.000000</td>\n",
       "    </tr>\n",
       "    <tr>\n",
       "      <th>mean</th>\n",
       "      <td>6.630123</td>\n",
       "      <td>44.226629</td>\n",
       "      <td>0.546742</td>\n",
       "      <td>0.432483</td>\n",
       "      <td>0.671388</td>\n",
       "      <td>0.491029</td>\n",
       "      <td>251.840415</td>\n",
       "    </tr>\n",
       "    <tr>\n",
       "      <th>std</th>\n",
       "      <td>1.399679</td>\n",
       "      <td>10.098364</td>\n",
       "      <td>0.498046</td>\n",
       "      <td>0.495655</td>\n",
       "      <td>0.469930</td>\n",
       "      <td>0.500156</td>\n",
       "      <td>4.307424</td>\n",
       "    </tr>\n",
       "    <tr>\n",
       "      <th>min</th>\n",
       "      <td>3.000000</td>\n",
       "      <td>34.000000</td>\n",
       "      <td>0.000000</td>\n",
       "      <td>0.000000</td>\n",
       "      <td>0.000000</td>\n",
       "      <td>0.000000</td>\n",
       "      <td>240.000000</td>\n",
       "    </tr>\n",
       "    <tr>\n",
       "      <th>25%</th>\n",
       "      <td>6.500000</td>\n",
       "      <td>38.000000</td>\n",
       "      <td>0.000000</td>\n",
       "      <td>0.000000</td>\n",
       "      <td>0.000000</td>\n",
       "      <td>0.000000</td>\n",
       "      <td>250.000000</td>\n",
       "    </tr>\n",
       "    <tr>\n",
       "      <th>50%</th>\n",
       "      <td>6.700000</td>\n",
       "      <td>41.000000</td>\n",
       "      <td>1.000000</td>\n",
       "      <td>0.000000</td>\n",
       "      <td>1.000000</td>\n",
       "      <td>0.000000</td>\n",
       "      <td>255.000000</td>\n",
       "    </tr>\n",
       "    <tr>\n",
       "      <th>75%</th>\n",
       "      <td>6.800000</td>\n",
       "      <td>45.000000</td>\n",
       "      <td>1.000000</td>\n",
       "      <td>1.000000</td>\n",
       "      <td>1.000000</td>\n",
       "      <td>1.000000</td>\n",
       "      <td>255.000000</td>\n",
       "    </tr>\n",
       "    <tr>\n",
       "      <th>max</th>\n",
       "      <td>9.500000</td>\n",
       "      <td>90.000000</td>\n",
       "      <td>1.000000</td>\n",
       "      <td>1.000000</td>\n",
       "      <td>1.000000</td>\n",
       "      <td>1.000000</td>\n",
       "      <td>255.000000</td>\n",
       "    </tr>\n",
       "  </tbody>\n",
       "</table>\n",
       "</div>"
      ],
      "text/plain": [
       "                pH   Temprature        Taste         Odor         Fat   \\\n",
       "count  1059.000000  1059.000000  1059.000000  1059.000000  1059.000000   \n",
       "mean      6.630123    44.226629     0.546742     0.432483     0.671388   \n",
       "std       1.399679    10.098364     0.498046     0.495655     0.469930   \n",
       "min       3.000000    34.000000     0.000000     0.000000     0.000000   \n",
       "25%       6.500000    38.000000     0.000000     0.000000     0.000000   \n",
       "50%       6.700000    41.000000     1.000000     0.000000     1.000000   \n",
       "75%       6.800000    45.000000     1.000000     1.000000     1.000000   \n",
       "max       9.500000    90.000000     1.000000     1.000000     1.000000   \n",
       "\n",
       "         Turbidity       Colour  \n",
       "count  1059.000000  1059.000000  \n",
       "mean      0.491029   251.840415  \n",
       "std       0.500156     4.307424  \n",
       "min       0.000000   240.000000  \n",
       "25%       0.000000   250.000000  \n",
       "50%       0.000000   255.000000  \n",
       "75%       1.000000   255.000000  \n",
       "max       1.000000   255.000000  "
      ]
     },
     "execution_count": 10,
     "metadata": {},
     "output_type": "execute_result"
    }
   ],
   "source": [
    "# Check detail description about numeric variables.            \n",
    "\n",
    "m.describe()"
   ]
  },
  {
   "cell_type": "markdown",
   "id": "7255f204",
   "metadata": {},
   "source": [
    "# Extracting row in the data"
   ]
  },
  {
   "cell_type": "code",
   "execution_count": 11,
   "id": "88ca1391",
   "metadata": {},
   "outputs": [
    {
     "data": {
      "text/html": [
       "<div>\n",
       "<style scoped>\n",
       "    .dataframe tbody tr th:only-of-type {\n",
       "        vertical-align: middle;\n",
       "    }\n",
       "\n",
       "    .dataframe tbody tr th {\n",
       "        vertical-align: top;\n",
       "    }\n",
       "\n",
       "    .dataframe thead th {\n",
       "        text-align: right;\n",
       "    }\n",
       "</style>\n",
       "<table border=\"1\" class=\"dataframe\">\n",
       "  <thead>\n",
       "    <tr style=\"text-align: right;\">\n",
       "      <th></th>\n",
       "      <th>pH</th>\n",
       "      <th>Temprature</th>\n",
       "      <th>Taste</th>\n",
       "      <th>Odor</th>\n",
       "      <th>Fat</th>\n",
       "      <th>Turbidity</th>\n",
       "      <th>Colour</th>\n",
       "      <th>Grade</th>\n",
       "    </tr>\n",
       "  </thead>\n",
       "  <tbody>\n",
       "    <tr>\n",
       "      <th>85</th>\n",
       "      <td>6.5</td>\n",
       "      <td>38</td>\n",
       "      <td>1</td>\n",
       "      <td>1</td>\n",
       "      <td>1</td>\n",
       "      <td>1</td>\n",
       "      <td>255</td>\n",
       "      <td>high</td>\n",
       "    </tr>\n",
       "    <tr>\n",
       "      <th>86</th>\n",
       "      <td>6.6</td>\n",
       "      <td>38</td>\n",
       "      <td>0</td>\n",
       "      <td>0</td>\n",
       "      <td>0</td>\n",
       "      <td>0</td>\n",
       "      <td>255</td>\n",
       "      <td>medium</td>\n",
       "    </tr>\n",
       "    <tr>\n",
       "      <th>87</th>\n",
       "      <td>3.0</td>\n",
       "      <td>40</td>\n",
       "      <td>1</td>\n",
       "      <td>0</td>\n",
       "      <td>0</td>\n",
       "      <td>0</td>\n",
       "      <td>255</td>\n",
       "      <td>low</td>\n",
       "    </tr>\n",
       "    <tr>\n",
       "      <th>88</th>\n",
       "      <td>9.0</td>\n",
       "      <td>43</td>\n",
       "      <td>1</td>\n",
       "      <td>1</td>\n",
       "      <td>1</td>\n",
       "      <td>1</td>\n",
       "      <td>248</td>\n",
       "      <td>low</td>\n",
       "    </tr>\n",
       "    <tr>\n",
       "      <th>89</th>\n",
       "      <td>6.8</td>\n",
       "      <td>40</td>\n",
       "      <td>1</td>\n",
       "      <td>1</td>\n",
       "      <td>1</td>\n",
       "      <td>1</td>\n",
       "      <td>255</td>\n",
       "      <td>high</td>\n",
       "    </tr>\n",
       "  </tbody>\n",
       "</table>\n",
       "</div>"
      ],
      "text/plain": [
       "     pH  Temprature  Taste  Odor  Fat   Turbidity  Colour   Grade\n",
       "85  6.5          38      1     1     1          1     255    high\n",
       "86  6.6          38      0     0     0          0     255  medium\n",
       "87  3.0          40      1     0     0          0     255     low\n",
       "88  9.0          43      1     1     1          1     248     low\n",
       "89  6.8          40      1     1     1          1     255    high"
      ]
     },
     "execution_count": 11,
     "metadata": {},
     "output_type": "execute_result"
    }
   ],
   "source": [
    "m[85:90]"
   ]
  },
  {
   "cell_type": "code",
   "execution_count": 12,
   "id": "b9b77790",
   "metadata": {},
   "outputs": [
    {
     "data": {
      "text/html": [
       "<div>\n",
       "<style scoped>\n",
       "    .dataframe tbody tr th:only-of-type {\n",
       "        vertical-align: middle;\n",
       "    }\n",
       "\n",
       "    .dataframe tbody tr th {\n",
       "        vertical-align: top;\n",
       "    }\n",
       "\n",
       "    .dataframe thead th {\n",
       "        text-align: right;\n",
       "    }\n",
       "</style>\n",
       "<table border=\"1\" class=\"dataframe\">\n",
       "  <thead>\n",
       "    <tr style=\"text-align: right;\">\n",
       "      <th></th>\n",
       "      <th>pH</th>\n",
       "      <th>Temprature</th>\n",
       "      <th>Taste</th>\n",
       "      <th>Odor</th>\n",
       "      <th>Fat</th>\n",
       "      <th>Turbidity</th>\n",
       "      <th>Colour</th>\n",
       "      <th>Grade</th>\n",
       "    </tr>\n",
       "  </thead>\n",
       "  <tbody>\n",
       "    <tr>\n",
       "      <th>140</th>\n",
       "      <td>6.8</td>\n",
       "      <td>41</td>\n",
       "      <td>0</td>\n",
       "      <td>0</td>\n",
       "      <td>1</td>\n",
       "      <td>0</td>\n",
       "      <td>255</td>\n",
       "      <td>medium</td>\n",
       "    </tr>\n",
       "    <tr>\n",
       "      <th>141</th>\n",
       "      <td>6.5</td>\n",
       "      <td>38</td>\n",
       "      <td>1</td>\n",
       "      <td>1</td>\n",
       "      <td>1</td>\n",
       "      <td>1</td>\n",
       "      <td>255</td>\n",
       "      <td>high</td>\n",
       "    </tr>\n",
       "    <tr>\n",
       "      <th>142</th>\n",
       "      <td>6.6</td>\n",
       "      <td>38</td>\n",
       "      <td>0</td>\n",
       "      <td>0</td>\n",
       "      <td>0</td>\n",
       "      <td>0</td>\n",
       "      <td>255</td>\n",
       "      <td>medium</td>\n",
       "    </tr>\n",
       "    <tr>\n",
       "      <th>143</th>\n",
       "      <td>3.0</td>\n",
       "      <td>40</td>\n",
       "      <td>1</td>\n",
       "      <td>0</td>\n",
       "      <td>0</td>\n",
       "      <td>0</td>\n",
       "      <td>255</td>\n",
       "      <td>low</td>\n",
       "    </tr>\n",
       "    <tr>\n",
       "      <th>144</th>\n",
       "      <td>9.0</td>\n",
       "      <td>43</td>\n",
       "      <td>1</td>\n",
       "      <td>1</td>\n",
       "      <td>1</td>\n",
       "      <td>1</td>\n",
       "      <td>248</td>\n",
       "      <td>low</td>\n",
       "    </tr>\n",
       "  </tbody>\n",
       "</table>\n",
       "</div>"
      ],
      "text/plain": [
       "      pH  Temprature  Taste  Odor  Fat   Turbidity  Colour   Grade\n",
       "140  6.8          41      0     0     1          0     255  medium\n",
       "141  6.5          38      1     1     1          1     255    high\n",
       "142  6.6          38      0     0     0          0     255  medium\n",
       "143  3.0          40      1     0     0          0     255     low\n",
       "144  9.0          43      1     1     1          1     248     low"
      ]
     },
     "execution_count": 12,
     "metadata": {},
     "output_type": "execute_result"
    }
   ],
   "source": [
    "m[140:145]"
   ]
  },
  {
   "cell_type": "markdown",
   "id": "c066a4bf",
   "metadata": {},
   "source": [
    "# Extracting Columns in the data"
   ]
  },
  {
   "cell_type": "code",
   "execution_count": 13,
   "id": "a4977b96",
   "metadata": {},
   "outputs": [
    {
     "data": {
      "text/plain": [
       "0         high\n",
       "1         high\n",
       "2          low\n",
       "3          low\n",
       "4       medium\n",
       "         ...  \n",
       "1054    medium\n",
       "1055      high\n",
       "1056       low\n",
       "1057      high\n",
       "1058       low\n",
       "Name: Grade, Length: 1059, dtype: object"
      ]
     },
     "execution_count": 13,
     "metadata": {},
     "output_type": "execute_result"
    }
   ],
   "source": [
    "m[\"Grade\"]"
   ]
  },
  {
   "cell_type": "code",
   "execution_count": 14,
   "id": "7a7adb39",
   "metadata": {},
   "outputs": [
    {
     "data": {
      "text/plain": [
       "0         high\n",
       "1         high\n",
       "2          low\n",
       "3          low\n",
       "4       medium\n",
       "         ...  \n",
       "1054    medium\n",
       "1055      high\n",
       "1056       low\n",
       "1057      high\n",
       "1058       low\n",
       "Name: Grade, Length: 1059, dtype: object"
      ]
     },
     "execution_count": 14,
     "metadata": {},
     "output_type": "execute_result"
    }
   ],
   "source": [
    "m.Grade"
   ]
  },
  {
   "cell_type": "code",
   "execution_count": 15,
   "id": "07b7387c",
   "metadata": {},
   "outputs": [
    {
     "data": {
      "text/html": [
       "<div>\n",
       "<style scoped>\n",
       "    .dataframe tbody tr th:only-of-type {\n",
       "        vertical-align: middle;\n",
       "    }\n",
       "\n",
       "    .dataframe tbody tr th {\n",
       "        vertical-align: top;\n",
       "    }\n",
       "\n",
       "    .dataframe thead th {\n",
       "        text-align: right;\n",
       "    }\n",
       "</style>\n",
       "<table border=\"1\" class=\"dataframe\">\n",
       "  <thead>\n",
       "    <tr style=\"text-align: right;\">\n",
       "      <th></th>\n",
       "      <th>Taste</th>\n",
       "      <th>Colour</th>\n",
       "      <th>Grade</th>\n",
       "    </tr>\n",
       "  </thead>\n",
       "  <tbody>\n",
       "    <tr>\n",
       "      <th>0</th>\n",
       "      <td>1</td>\n",
       "      <td>254</td>\n",
       "      <td>high</td>\n",
       "    </tr>\n",
       "    <tr>\n",
       "      <th>1</th>\n",
       "      <td>0</td>\n",
       "      <td>253</td>\n",
       "      <td>high</td>\n",
       "    </tr>\n",
       "    <tr>\n",
       "      <th>2</th>\n",
       "      <td>1</td>\n",
       "      <td>246</td>\n",
       "      <td>low</td>\n",
       "    </tr>\n",
       "    <tr>\n",
       "      <th>3</th>\n",
       "      <td>1</td>\n",
       "      <td>255</td>\n",
       "      <td>low</td>\n",
       "    </tr>\n",
       "    <tr>\n",
       "      <th>4</th>\n",
       "      <td>0</td>\n",
       "      <td>255</td>\n",
       "      <td>medium</td>\n",
       "    </tr>\n",
       "    <tr>\n",
       "      <th>...</th>\n",
       "      <td>...</td>\n",
       "      <td>...</td>\n",
       "      <td>...</td>\n",
       "    </tr>\n",
       "    <tr>\n",
       "      <th>1054</th>\n",
       "      <td>1</td>\n",
       "      <td>247</td>\n",
       "      <td>medium</td>\n",
       "    </tr>\n",
       "    <tr>\n",
       "      <th>1055</th>\n",
       "      <td>1</td>\n",
       "      <td>255</td>\n",
       "      <td>high</td>\n",
       "    </tr>\n",
       "    <tr>\n",
       "      <th>1056</th>\n",
       "      <td>1</td>\n",
       "      <td>255</td>\n",
       "      <td>low</td>\n",
       "    </tr>\n",
       "    <tr>\n",
       "      <th>1057</th>\n",
       "      <td>1</td>\n",
       "      <td>250</td>\n",
       "      <td>high</td>\n",
       "    </tr>\n",
       "    <tr>\n",
       "      <th>1058</th>\n",
       "      <td>0</td>\n",
       "      <td>255</td>\n",
       "      <td>low</td>\n",
       "    </tr>\n",
       "  </tbody>\n",
       "</table>\n",
       "<p>1059 rows × 3 columns</p>\n",
       "</div>"
      ],
      "text/plain": [
       "      Taste  Colour   Grade\n",
       "0         1     254    high\n",
       "1         0     253    high\n",
       "2         1     246     low\n",
       "3         1     255     low\n",
       "4         0     255  medium\n",
       "...     ...     ...     ...\n",
       "1054      1     247  medium\n",
       "1055      1     255    high\n",
       "1056      1     255     low\n",
       "1057      1     250    high\n",
       "1058      0     255     low\n",
       "\n",
       "[1059 rows x 3 columns]"
      ]
     },
     "execution_count": 15,
     "metadata": {},
     "output_type": "execute_result"
    }
   ],
   "source": [
    "m[[\"Taste\",\"Colour\",\"Grade\"]]"
   ]
  },
  {
   "cell_type": "markdown",
   "id": "a7abb406",
   "metadata": {},
   "source": [
    "# Cheacking Unique Values"
   ]
  },
  {
   "cell_type": "code",
   "execution_count": 16,
   "id": "77587b7c",
   "metadata": {},
   "outputs": [
    {
     "data": {
      "text/plain": [
       "pH            16\n",
       "Temprature    17\n",
       "Taste          2\n",
       "Odor           2\n",
       "Fat            2\n",
       "Turbidity      2\n",
       "Colour         9\n",
       "Grade          3\n",
       "dtype: int64"
      ]
     },
     "execution_count": 16,
     "metadata": {},
     "output_type": "execute_result"
    }
   ],
   "source": [
    "m.nunique()"
   ]
  },
  {
   "cell_type": "code",
   "execution_count": 17,
   "id": "09b92a2a",
   "metadata": {},
   "outputs": [
    {
     "data": {
      "text/plain": [
       "array(['high', 'low', 'medium'], dtype=object)"
      ]
     },
     "execution_count": 17,
     "metadata": {},
     "output_type": "execute_result"
    }
   ],
   "source": [
    "m.Grade.unique()"
   ]
  },
  {
   "cell_type": "markdown",
   "id": "486a348f",
   "metadata": {},
   "source": [
    "# Use loc and iloc function"
   ]
  },
  {
   "cell_type": "code",
   "execution_count": 18,
   "id": "4f0f9019",
   "metadata": {},
   "outputs": [
    {
     "data": {
      "text/plain": [
       "pH               6.8\n",
       "Temprature        45\n",
       "Taste              0\n",
       "Odor               0\n",
       "Fat                1\n",
       "Turbidity          0\n",
       "Colour           255\n",
       "Grade         medium\n",
       "Name: 214, dtype: object"
      ]
     },
     "execution_count": 18,
     "metadata": {},
     "output_type": "execute_result"
    }
   ],
   "source": [
    "m.loc[214]"
   ]
  },
  {
   "cell_type": "code",
   "execution_count": 19,
   "id": "89a1a7f3",
   "metadata": {},
   "outputs": [
    {
     "data": {
      "text/html": [
       "<div>\n",
       "<style scoped>\n",
       "    .dataframe tbody tr th:only-of-type {\n",
       "        vertical-align: middle;\n",
       "    }\n",
       "\n",
       "    .dataframe tbody tr th {\n",
       "        vertical-align: top;\n",
       "    }\n",
       "\n",
       "    .dataframe thead th {\n",
       "        text-align: right;\n",
       "    }\n",
       "</style>\n",
       "<table border=\"1\" class=\"dataframe\">\n",
       "  <thead>\n",
       "    <tr style=\"text-align: right;\">\n",
       "      <th></th>\n",
       "      <th>pH</th>\n",
       "      <th>Temprature</th>\n",
       "      <th>Taste</th>\n",
       "      <th>Odor</th>\n",
       "      <th>Fat</th>\n",
       "      <th>Turbidity</th>\n",
       "      <th>Colour</th>\n",
       "      <th>Grade</th>\n",
       "    </tr>\n",
       "  </thead>\n",
       "  <tbody>\n",
       "    <tr>\n",
       "      <th>10</th>\n",
       "      <td>6.7</td>\n",
       "      <td>45</td>\n",
       "      <td>1</td>\n",
       "      <td>1</td>\n",
       "      <td>1</td>\n",
       "      <td>0</td>\n",
       "      <td>245</td>\n",
       "      <td>medium</td>\n",
       "    </tr>\n",
       "    <tr>\n",
       "      <th>20</th>\n",
       "      <td>6.6</td>\n",
       "      <td>45</td>\n",
       "      <td>0</td>\n",
       "      <td>1</td>\n",
       "      <td>1</td>\n",
       "      <td>1</td>\n",
       "      <td>250</td>\n",
       "      <td>high</td>\n",
       "    </tr>\n",
       "    <tr>\n",
       "      <th>30</th>\n",
       "      <td>6.4</td>\n",
       "      <td>45</td>\n",
       "      <td>0</td>\n",
       "      <td>1</td>\n",
       "      <td>0</td>\n",
       "      <td>0</td>\n",
       "      <td>240</td>\n",
       "      <td>medium</td>\n",
       "    </tr>\n",
       "    <tr>\n",
       "      <th>40</th>\n",
       "      <td>6.8</td>\n",
       "      <td>38</td>\n",
       "      <td>0</td>\n",
       "      <td>0</td>\n",
       "      <td>0</td>\n",
       "      <td>0</td>\n",
       "      <td>255</td>\n",
       "      <td>medium</td>\n",
       "    </tr>\n",
       "    <tr>\n",
       "      <th>50</th>\n",
       "      <td>6.6</td>\n",
       "      <td>37</td>\n",
       "      <td>1</td>\n",
       "      <td>1</td>\n",
       "      <td>1</td>\n",
       "      <td>1</td>\n",
       "      <td>255</td>\n",
       "      <td>high</td>\n",
       "    </tr>\n",
       "  </tbody>\n",
       "</table>\n",
       "</div>"
      ],
      "text/plain": [
       "     pH  Temprature  Taste  Odor  Fat   Turbidity  Colour   Grade\n",
       "10  6.7          45      1     1     1          0     245  medium\n",
       "20  6.6          45      0     1     1          1     250    high\n",
       "30  6.4          45      0     1     0          0     240  medium\n",
       "40  6.8          38      0     0     0          0     255  medium\n",
       "50  6.6          37      1     1     1          1     255    high"
      ]
     },
     "execution_count": 19,
     "metadata": {},
     "output_type": "execute_result"
    }
   ],
   "source": [
    "m.loc[[10,20,30,40,50]]"
   ]
  },
  {
   "cell_type": "code",
   "execution_count": 20,
   "id": "50304855",
   "metadata": {},
   "outputs": [
    {
     "data": {
      "text/html": [
       "<div>\n",
       "<style scoped>\n",
       "    .dataframe tbody tr th:only-of-type {\n",
       "        vertical-align: middle;\n",
       "    }\n",
       "\n",
       "    .dataframe tbody tr th {\n",
       "        vertical-align: top;\n",
       "    }\n",
       "\n",
       "    .dataframe thead th {\n",
       "        text-align: right;\n",
       "    }\n",
       "</style>\n",
       "<table border=\"1\" class=\"dataframe\">\n",
       "  <thead>\n",
       "    <tr style=\"text-align: right;\">\n",
       "      <th></th>\n",
       "      <th>pH</th>\n",
       "      <th>Temprature</th>\n",
       "      <th>Taste</th>\n",
       "      <th>Odor</th>\n",
       "    </tr>\n",
       "  </thead>\n",
       "  <tbody>\n",
       "    <tr>\n",
       "      <th>20</th>\n",
       "      <td>6.6</td>\n",
       "      <td>45</td>\n",
       "      <td>0</td>\n",
       "      <td>1</td>\n",
       "    </tr>\n",
       "    <tr>\n",
       "      <th>45</th>\n",
       "      <td>6.5</td>\n",
       "      <td>36</td>\n",
       "      <td>0</td>\n",
       "      <td>0</td>\n",
       "    </tr>\n",
       "    <tr>\n",
       "      <th>78</th>\n",
       "      <td>8.5</td>\n",
       "      <td>70</td>\n",
       "      <td>0</td>\n",
       "      <td>0</td>\n",
       "    </tr>\n",
       "    <tr>\n",
       "      <th>98</th>\n",
       "      <td>6.6</td>\n",
       "      <td>37</td>\n",
       "      <td>1</td>\n",
       "      <td>1</td>\n",
       "    </tr>\n",
       "  </tbody>\n",
       "</table>\n",
       "</div>"
      ],
      "text/plain": [
       "     pH  Temprature  Taste  Odor\n",
       "20  6.6          45      0     1\n",
       "45  6.5          36      0     0\n",
       "78  8.5          70      0     0\n",
       "98  6.6          37      1     1"
      ]
     },
     "execution_count": 20,
     "metadata": {},
     "output_type": "execute_result"
    }
   ],
   "source": [
    "m.loc[[20,45,78,98],[\"pH\",\"Temprature\",\"Taste\",\"Odor\"]]"
   ]
  },
  {
   "cell_type": "code",
   "execution_count": 21,
   "id": "db9667f3",
   "metadata": {},
   "outputs": [
    {
     "data": {
      "text/html": [
       "<div>\n",
       "<style scoped>\n",
       "    .dataframe tbody tr th:only-of-type {\n",
       "        vertical-align: middle;\n",
       "    }\n",
       "\n",
       "    .dataframe tbody tr th {\n",
       "        vertical-align: top;\n",
       "    }\n",
       "\n",
       "    .dataframe thead th {\n",
       "        text-align: right;\n",
       "    }\n",
       "</style>\n",
       "<table border=\"1\" class=\"dataframe\">\n",
       "  <thead>\n",
       "    <tr style=\"text-align: right;\">\n",
       "      <th></th>\n",
       "      <th>Turbidity</th>\n",
       "      <th>Colour</th>\n",
       "      <th>Grade</th>\n",
       "    </tr>\n",
       "  </thead>\n",
       "  <tbody>\n",
       "    <tr>\n",
       "      <th>15</th>\n",
       "      <td>0</td>\n",
       "      <td>255</td>\n",
       "      <td>medium</td>\n",
       "    </tr>\n",
       "    <tr>\n",
       "      <th>16</th>\n",
       "      <td>0</td>\n",
       "      <td>255</td>\n",
       "      <td>low</td>\n",
       "    </tr>\n",
       "    <tr>\n",
       "      <th>17</th>\n",
       "      <td>1</td>\n",
       "      <td>255</td>\n",
       "      <td>low</td>\n",
       "    </tr>\n",
       "    <tr>\n",
       "      <th>18</th>\n",
       "      <td>1</td>\n",
       "      <td>250</td>\n",
       "      <td>low</td>\n",
       "    </tr>\n",
       "    <tr>\n",
       "      <th>19</th>\n",
       "      <td>0</td>\n",
       "      <td>245</td>\n",
       "      <td>medium</td>\n",
       "    </tr>\n",
       "  </tbody>\n",
       "</table>\n",
       "</div>"
      ],
      "text/plain": [
       "    Turbidity  Colour   Grade\n",
       "15          0     255  medium\n",
       "16          0     255     low\n",
       "17          1     255     low\n",
       "18          1     250     low\n",
       "19          0     245  medium"
      ]
     },
     "execution_count": 21,
     "metadata": {},
     "output_type": "execute_result"
    }
   ],
   "source": [
    "m.iloc[15:20,5:8]"
   ]
  },
  {
   "cell_type": "code",
   "execution_count": 22,
   "id": "6d7327f0",
   "metadata": {},
   "outputs": [
    {
     "data": {
      "text/html": [
       "<div>\n",
       "<style scoped>\n",
       "    .dataframe tbody tr th:only-of-type {\n",
       "        vertical-align: middle;\n",
       "    }\n",
       "\n",
       "    .dataframe tbody tr th {\n",
       "        vertical-align: top;\n",
       "    }\n",
       "\n",
       "    .dataframe thead th {\n",
       "        text-align: right;\n",
       "    }\n",
       "</style>\n",
       "<table border=\"1\" class=\"dataframe\">\n",
       "  <thead>\n",
       "    <tr style=\"text-align: right;\">\n",
       "      <th></th>\n",
       "      <th>Fat</th>\n",
       "      <th>Turbidity</th>\n",
       "    </tr>\n",
       "  </thead>\n",
       "  <tbody>\n",
       "    <tr>\n",
       "      <th>1</th>\n",
       "      <td>0</td>\n",
       "      <td>1</td>\n",
       "    </tr>\n",
       "    <tr>\n",
       "      <th>2</th>\n",
       "      <td>1</td>\n",
       "      <td>1</td>\n",
       "    </tr>\n",
       "  </tbody>\n",
       "</table>\n",
       "</div>"
      ],
      "text/plain": [
       "   Fat   Turbidity\n",
       "1     0          1\n",
       "2     1          1"
      ]
     },
     "execution_count": 22,
     "metadata": {},
     "output_type": "execute_result"
    }
   ],
   "source": [
    "m.iloc[1:3,4:6]"
   ]
  },
  {
   "cell_type": "markdown",
   "id": "46b4de23",
   "metadata": {},
   "source": [
    "# Use groupby"
   ]
  },
  {
   "cell_type": "code",
   "execution_count": 23,
   "id": "60f537f2",
   "metadata": {},
   "outputs": [
    {
     "data": {
      "text/plain": [
       "Grade\n",
       "high      256\n",
       "low       429\n",
       "medium    374\n",
       "Name: Grade, dtype: int64"
      ]
     },
     "execution_count": 23,
     "metadata": {},
     "output_type": "execute_result"
    }
   ],
   "source": [
    "m.groupby(\"Grade\")[\"Grade\"].count()"
   ]
  },
  {
   "cell_type": "code",
   "execution_count": 24,
   "id": "5b1608ee",
   "metadata": {},
   "outputs": [
    {
     "data": {
      "text/plain": [
       "Odor\n",
       "0    0.291181\n",
       "1    0.753275\n",
       "Name: Turbidity, dtype: float64"
      ]
     },
     "execution_count": 24,
     "metadata": {},
     "output_type": "execute_result"
    }
   ],
   "source": [
    "m.groupby(\"Odor\")[\"Turbidity\"].mean()"
   ]
  },
  {
   "cell_type": "code",
   "execution_count": 25,
   "id": "d0987f7c",
   "metadata": {},
   "outputs": [
    {
     "data": {
      "text/plain": [
       "Fat \n",
       "0    0.316092\n",
       "1    0.659634\n",
       "Name: Taste, dtype: float64"
      ]
     },
     "execution_count": 25,
     "metadata": {},
     "output_type": "execute_result"
    }
   ],
   "source": [
    "m.groupby('Fat ')['Taste'].mean()"
   ]
  },
  {
   "cell_type": "code",
   "execution_count": 26,
   "id": "8a699376",
   "metadata": {},
   "outputs": [
    {
     "data": {
      "text/html": [
       "<div>\n",
       "<style scoped>\n",
       "    .dataframe tbody tr th:only-of-type {\n",
       "        vertical-align: middle;\n",
       "    }\n",
       "\n",
       "    .dataframe tbody tr th {\n",
       "        vertical-align: top;\n",
       "    }\n",
       "\n",
       "    .dataframe thead th {\n",
       "        text-align: right;\n",
       "    }\n",
       "</style>\n",
       "<table border=\"1\" class=\"dataframe\">\n",
       "  <thead>\n",
       "    <tr style=\"text-align: right;\">\n",
       "      <th></th>\n",
       "      <th>Colour</th>\n",
       "    </tr>\n",
       "    <tr>\n",
       "      <th>Grade</th>\n",
       "      <th></th>\n",
       "    </tr>\n",
       "  </thead>\n",
       "  <tbody>\n",
       "    <tr>\n",
       "      <th>high</th>\n",
       "      <td>252.539062</td>\n",
       "    </tr>\n",
       "    <tr>\n",
       "      <th>low</th>\n",
       "      <td>252.734266</td>\n",
       "    </tr>\n",
       "    <tr>\n",
       "      <th>medium</th>\n",
       "      <td>250.336898</td>\n",
       "    </tr>\n",
       "  </tbody>\n",
       "</table>\n",
       "</div>"
      ],
      "text/plain": [
       "            Colour\n",
       "Grade             \n",
       "high    252.539062\n",
       "low     252.734266\n",
       "medium  250.336898"
      ]
     },
     "execution_count": 26,
     "metadata": {},
     "output_type": "execute_result"
    }
   ],
   "source": [
    "m.groupby('Grade')[['Colour']].mean()"
   ]
  },
  {
   "cell_type": "code",
   "execution_count": 27,
   "id": "e3737742",
   "metadata": {},
   "outputs": [
    {
     "data": {
      "text/html": [
       "<div>\n",
       "<style scoped>\n",
       "    .dataframe tbody tr th:only-of-type {\n",
       "        vertical-align: middle;\n",
       "    }\n",
       "\n",
       "    .dataframe tbody tr th {\n",
       "        vertical-align: top;\n",
       "    }\n",
       "\n",
       "    .dataframe thead th {\n",
       "        text-align: right;\n",
       "    }\n",
       "</style>\n",
       "<table border=\"1\" class=\"dataframe\">\n",
       "  <thead>\n",
       "    <tr style=\"text-align: right;\">\n",
       "      <th></th>\n",
       "      <th>pH</th>\n",
       "    </tr>\n",
       "    <tr>\n",
       "      <th>Grade</th>\n",
       "      <th></th>\n",
       "    </tr>\n",
       "  </thead>\n",
       "  <tbody>\n",
       "    <tr>\n",
       "      <th>high</th>\n",
       "      <td>6.692578</td>\n",
       "    </tr>\n",
       "    <tr>\n",
       "      <th>low</th>\n",
       "      <td>6.588578</td>\n",
       "    </tr>\n",
       "    <tr>\n",
       "      <th>medium</th>\n",
       "      <td>6.635027</td>\n",
       "    </tr>\n",
       "  </tbody>\n",
       "</table>\n",
       "</div>"
      ],
      "text/plain": [
       "              pH\n",
       "Grade           \n",
       "high    6.692578\n",
       "low     6.588578\n",
       "medium  6.635027"
      ]
     },
     "execution_count": 27,
     "metadata": {},
     "output_type": "execute_result"
    }
   ],
   "source": [
    "m.groupby('Grade')[['pH']].mean()"
   ]
  },
  {
   "cell_type": "markdown",
   "id": "267c753a",
   "metadata": {},
   "source": [
    "# Data Preprocessing"
   ]
  },
  {
   "cell_type": "markdown",
   "id": "f4e0c5bd",
   "metadata": {},
   "source": [
    "### Steps involved in Data Preprocessing :\n",
    "\n",
    "### Data cleaning\n",
    "\n",
    "### Identifying and removing outliers\n",
    "\n",
    "### Encoding categorical variables"
   ]
  },
  {
   "cell_type": "markdown",
   "id": "03846a05",
   "metadata": {},
   "source": [
    "# To cheacking missing values"
   ]
  },
  {
   "cell_type": "code",
   "execution_count": 28,
   "id": "6e7ec2b5",
   "metadata": {},
   "outputs": [
    {
     "data": {
      "text/plain": [
       "pH            0\n",
       "Temprature    0\n",
       "Taste         0\n",
       "Odor          0\n",
       "Fat           0\n",
       "Turbidity     0\n",
       "Colour        0\n",
       "Grade         0\n",
       "dtype: int64"
      ]
     },
     "execution_count": 28,
     "metadata": {},
     "output_type": "execute_result"
    }
   ],
   "source": [
    "#cheacking missing or null values.\n",
    "\n",
    "m.isna().sum()"
   ]
  },
  {
   "cell_type": "code",
   "execution_count": 29,
   "id": "57bd4d8b",
   "metadata": {},
   "outputs": [
    {
     "data": {
      "text/plain": [
       "976"
      ]
     },
     "execution_count": 29,
     "metadata": {},
     "output_type": "execute_result"
    }
   ],
   "source": [
    "# Cheaking duplicate value.\n",
    "\n",
    "m.duplicated().sum()"
   ]
  },
  {
   "cell_type": "markdown",
   "id": "ff010194",
   "metadata": {},
   "source": [
    "# Outlier Detection"
   ]
  },
  {
   "cell_type": "code",
   "execution_count": 30,
   "id": "7bd0cbfb",
   "metadata": {},
   "outputs": [
    {
     "data": {
      "text/plain": [
       "pH                AxesSubplot(0.125,0.71587;0.168478x0.16413)\n",
       "Temprature     AxesSubplot(0.327174,0.71587;0.168478x0.16413)\n",
       "Taste          AxesSubplot(0.529348,0.71587;0.168478x0.16413)\n",
       "Odor           AxesSubplot(0.731522,0.71587;0.168478x0.16413)\n",
       "Fat              AxesSubplot(0.125,0.518913;0.168478x0.16413)\n",
       "Turbidity     AxesSubplot(0.327174,0.518913;0.168478x0.16413)\n",
       "Colour        AxesSubplot(0.529348,0.518913;0.168478x0.16413)\n",
       "dtype: object"
      ]
     },
     "execution_count": 30,
     "metadata": {},
     "output_type": "execute_result"
    },
    {
     "data": {
      "image/png": "[encoded data removed]",
      "text/plain": [
       "<Figure size 1440x1440 with 16 Axes>"
      ]
     },
     "metadata": {
      "needs_background": "light"
     },
     "output_type": "display_data"
    }
   ],
   "source": [
    "m.plot(kind=\"box\",subplots=True,layout=(4,4),sharex=False,sharey=False,figsize=(20,20))"
   ]
  },
  {
   "cell_type": "code",
   "execution_count": 31,
   "id": "b677f6da",
   "metadata": {},
   "outputs": [],
   "source": [
    "# Remove Outlier\n",
    "\n",
    "m=m.loc[(m.Temprature<60)]\n",
    "m=m.loc[(m.pH<8) & (m.pH>6)]"
   ]
  },
  {
   "cell_type": "code",
   "execution_count": 32,
   "id": "3291b88b",
   "metadata": {},
   "outputs": [
    {
     "data": {
      "text/plain": [
       "pH                AxesSubplot(0.125,0.71587;0.168478x0.16413)\n",
       "Temprature     AxesSubplot(0.327174,0.71587;0.168478x0.16413)\n",
       "Taste          AxesSubplot(0.529348,0.71587;0.168478x0.16413)\n",
       "Odor           AxesSubplot(0.731522,0.71587;0.168478x0.16413)\n",
       "Fat              AxesSubplot(0.125,0.518913;0.168478x0.16413)\n",
       "Turbidity     AxesSubplot(0.327174,0.518913;0.168478x0.16413)\n",
       "Colour        AxesSubplot(0.529348,0.518913;0.168478x0.16413)\n",
       "dtype: object"
      ]
     },
     "execution_count": 32,
     "metadata": {},
     "output_type": "execute_result"
    },
    {
     "data": {
      "image/png": "[encoded data removed]",
      "text/plain": [
       "<Figure size 1440x1440 with 16 Axes>"
      ]
     },
     "metadata": {
      "needs_background": "light"
     },
     "output_type": "display_data"
    }
   ],
   "source": [
    "m.plot(kind=\"box\",subplots=True,layout=(4,4),sharex=False,sharey=False,figsize=(20,20))"
   ]
  },
  {
   "cell_type": "markdown",
   "id": "1b6e549e",
   "metadata": {},
   "source": [
    "### Now there is no more outliers present in the dataset"
   ]
  },
  {
   "cell_type": "markdown",
   "id": "06e6c45f",
   "metadata": {},
   "source": [
    "# Checking Multicollinearity"
   ]
  },
  {
   "cell_type": "code",
   "execution_count": 33,
   "id": "ded96d4c",
   "metadata": {},
   "outputs": [
    {
     "data": {
      "text/html": [
       "<div>\n",
       "<style scoped>\n",
       "    .dataframe tbody tr th:only-of-type {\n",
       "        vertical-align: middle;\n",
       "    }\n",
       "\n",
       "    .dataframe tbody tr th {\n",
       "        vertical-align: top;\n",
       "    }\n",
       "\n",
       "    .dataframe thead th {\n",
       "        text-align: right;\n",
       "    }\n",
       "</style>\n",
       "<table border=\"1\" class=\"dataframe\">\n",
       "  <thead>\n",
       "    <tr style=\"text-align: right;\">\n",
       "      <th></th>\n",
       "      <th>pH</th>\n",
       "      <th>Temprature</th>\n",
       "      <th>Taste</th>\n",
       "      <th>Odor</th>\n",
       "      <th>Fat</th>\n",
       "      <th>Turbidity</th>\n",
       "      <th>Colour</th>\n",
       "    </tr>\n",
       "  </thead>\n",
       "  <tbody>\n",
       "    <tr>\n",
       "      <th>pH</th>\n",
       "      <td>1.000000</td>\n",
       "      <td>0.385169</td>\n",
       "      <td>-0.032990</td>\n",
       "      <td>0.307743</td>\n",
       "      <td>0.193007</td>\n",
       "      <td>0.164494</td>\n",
       "      <td>-0.246377</td>\n",
       "    </tr>\n",
       "    <tr>\n",
       "      <th>Temprature</th>\n",
       "      <td>0.385169</td>\n",
       "      <td>1.000000</td>\n",
       "      <td>-0.024248</td>\n",
       "      <td>0.261950</td>\n",
       "      <td>-0.016876</td>\n",
       "      <td>0.208823</td>\n",
       "      <td>-0.205965</td>\n",
       "    </tr>\n",
       "    <tr>\n",
       "      <th>Taste</th>\n",
       "      <td>-0.032990</td>\n",
       "      <td>-0.024248</td>\n",
       "      <td>1.000000</td>\n",
       "      <td>0.150298</td>\n",
       "      <td>0.370760</td>\n",
       "      <td>-0.097593</td>\n",
       "      <td>-0.154204</td>\n",
       "    </tr>\n",
       "    <tr>\n",
       "      <th>Odor</th>\n",
       "      <td>0.307743</td>\n",
       "      <td>0.261950</td>\n",
       "      <td>0.150298</td>\n",
       "      <td>1.000000</td>\n",
       "      <td>0.345004</td>\n",
       "      <td>0.427383</td>\n",
       "      <td>-0.173333</td>\n",
       "    </tr>\n",
       "    <tr>\n",
       "      <th>Fat</th>\n",
       "      <td>0.193007</td>\n",
       "      <td>-0.016876</td>\n",
       "      <td>0.370760</td>\n",
       "      <td>0.345004</td>\n",
       "      <td>1.000000</td>\n",
       "      <td>0.136009</td>\n",
       "      <td>0.111634</td>\n",
       "    </tr>\n",
       "    <tr>\n",
       "      <th>Turbidity</th>\n",
       "      <td>0.164494</td>\n",
       "      <td>0.208823</td>\n",
       "      <td>-0.097593</td>\n",
       "      <td>0.427383</td>\n",
       "      <td>0.136009</td>\n",
       "      <td>1.000000</td>\n",
       "      <td>0.066738</td>\n",
       "    </tr>\n",
       "    <tr>\n",
       "      <th>Colour</th>\n",
       "      <td>-0.246377</td>\n",
       "      <td>-0.205965</td>\n",
       "      <td>-0.154204</td>\n",
       "      <td>-0.173333</td>\n",
       "      <td>0.111634</td>\n",
       "      <td>0.066738</td>\n",
       "      <td>1.000000</td>\n",
       "    </tr>\n",
       "  </tbody>\n",
       "</table>\n",
       "</div>"
      ],
      "text/plain": [
       "                  pH  Temprature     Taste      Odor      Fat   Turbidity  \\\n",
       "pH          1.000000    0.385169 -0.032990  0.307743  0.193007   0.164494   \n",
       "Temprature  0.385169    1.000000 -0.024248  0.261950 -0.016876   0.208823   \n",
       "Taste      -0.032990   -0.024248  1.000000  0.150298  0.370760  -0.097593   \n",
       "Odor        0.307743    0.261950  0.150298  1.000000  0.345004   0.427383   \n",
       "Fat         0.193007   -0.016876  0.370760  0.345004  1.000000   0.136009   \n",
       "Turbidity   0.164494    0.208823 -0.097593  0.427383  0.136009   1.000000   \n",
       "Colour     -0.246377   -0.205965 -0.154204 -0.173333  0.111634   0.066738   \n",
       "\n",
       "              Colour  \n",
       "pH         -0.246377  \n",
       "Temprature -0.205965  \n",
       "Taste      -0.154204  \n",
       "Odor       -0.173333  \n",
       "Fat         0.111634  \n",
       "Turbidity   0.066738  \n",
       "Colour      1.000000  "
      ]
     },
     "execution_count": 33,
     "metadata": {},
     "output_type": "execute_result"
    }
   ],
   "source": [
    "m.corr()"
   ]
  },
  {
   "cell_type": "code",
   "execution_count": 34,
   "id": "31cd8782",
   "metadata": {},
   "outputs": [
    {
     "data": {
      "image/png": "[encoded data removed]",
      "text/plain": [
       "<Figure size 720x432 with 2 Axes>"
      ]
     },
     "metadata": {
      "needs_background": "light"
     },
     "output_type": "display_data"
    }
   ],
   "source": [
    "plt.figure(figsize=(10,6))\n",
    "sns.heatmap(m.corr(),annot=True,linewidth=2)\n",
    "plt.show()"
   ]
  },
  {
   "cell_type": "markdown",
   "id": "5dd304d5",
   "metadata": {},
   "source": [
    "### There is no any kind of multicollinearity between the independent variables"
   ]
  },
  {
   "cell_type": "markdown",
   "id": "00d9b208",
   "metadata": {},
   "source": [
    "# Data Visualization"
   ]
  },
  {
   "cell_type": "code",
   "execution_count": 35,
   "id": "d3feb85f",
   "metadata": {},
   "outputs": [
    {
     "data": {
      "text/html": [
       "<div>\n",
       "<style scoped>\n",
       "    .dataframe tbody tr th:only-of-type {\n",
       "        vertical-align: middle;\n",
       "    }\n",
       "\n",
       "    .dataframe tbody tr th {\n",
       "        vertical-align: top;\n",
       "    }\n",
       "\n",
       "    .dataframe thead th {\n",
       "        text-align: right;\n",
       "    }\n",
       "</style>\n",
       "<table border=\"1\" class=\"dataframe\">\n",
       "  <thead>\n",
       "    <tr style=\"text-align: right;\">\n",
       "      <th></th>\n",
       "      <th>pH</th>\n",
       "      <th>Temprature</th>\n",
       "      <th>Taste</th>\n",
       "      <th>Odor</th>\n",
       "      <th>Fat</th>\n",
       "      <th>Turbidity</th>\n",
       "      <th>Colour</th>\n",
       "      <th>Grade</th>\n",
       "    </tr>\n",
       "  </thead>\n",
       "  <tbody>\n",
       "    <tr>\n",
       "      <th>0</th>\n",
       "      <td>6.6</td>\n",
       "      <td>35</td>\n",
       "      <td>1</td>\n",
       "      <td>0</td>\n",
       "      <td>1</td>\n",
       "      <td>0</td>\n",
       "      <td>254</td>\n",
       "      <td>high</td>\n",
       "    </tr>\n",
       "    <tr>\n",
       "      <th>1</th>\n",
       "      <td>6.6</td>\n",
       "      <td>36</td>\n",
       "      <td>0</td>\n",
       "      <td>1</td>\n",
       "      <td>0</td>\n",
       "      <td>1</td>\n",
       "      <td>253</td>\n",
       "      <td>high</td>\n",
       "    </tr>\n",
       "  </tbody>\n",
       "</table>\n",
       "</div>"
      ],
      "text/plain": [
       "    pH  Temprature  Taste  Odor  Fat   Turbidity  Colour Grade\n",
       "0  6.6          35      1     0     1          0     254  high\n",
       "1  6.6          36      0     1     0          1     253  high"
      ]
     },
     "execution_count": 35,
     "metadata": {},
     "output_type": "execute_result"
    }
   ],
   "source": [
    "m.head(n=2)"
   ]
  },
  {
   "cell_type": "code",
   "execution_count": 36,
   "id": "f23a3b9f",
   "metadata": {},
   "outputs": [
    {
     "data": {
      "text/plain": [
       "array(['high', 'medium', 'low'], dtype=object)"
      ]
     },
     "execution_count": 36,
     "metadata": {},
     "output_type": "execute_result"
    }
   ],
   "source": [
    "m.Grade.unique()"
   ]
  },
  {
   "cell_type": "markdown",
   "id": "ed0e1d36",
   "metadata": {},
   "source": [
    "# Feature Engineering\\Encoding"
   ]
  },
  {
   "cell_type": "code",
   "execution_count": 37,
   "id": "cd5ac7ec",
   "metadata": {},
   "outputs": [],
   "source": [
    "m.Grade=m.Grade.map({\"low\":0,\"medium\":1,\"high\":2})"
   ]
  },
  {
   "cell_type": "code",
   "execution_count": 38,
   "id": "47c94518",
   "metadata": {},
   "outputs": [
    {
     "data": {
      "text/plain": [
       "array([2, 1, 0], dtype=int64)"
      ]
     },
     "execution_count": 38,
     "metadata": {},
     "output_type": "execute_result"
    }
   ],
   "source": [
    "m.Grade.unique()"
   ]
  },
  {
   "cell_type": "code",
   "execution_count": 39,
   "id": "09c7083e",
   "metadata": {},
   "outputs": [
    {
     "data": {
      "text/html": [
       "<div>\n",
       "<style scoped>\n",
       "    .dataframe tbody tr th:only-of-type {\n",
       "        vertical-align: middle;\n",
       "    }\n",
       "\n",
       "    .dataframe tbody tr th {\n",
       "        vertical-align: top;\n",
       "    }\n",
       "\n",
       "    .dataframe thead th {\n",
       "        text-align: right;\n",
       "    }\n",
       "</style>\n",
       "<table border=\"1\" class=\"dataframe\">\n",
       "  <thead>\n",
       "    <tr style=\"text-align: right;\">\n",
       "      <th></th>\n",
       "      <th>pH</th>\n",
       "      <th>Temprature</th>\n",
       "      <th>Taste</th>\n",
       "      <th>Odor</th>\n",
       "      <th>Fat</th>\n",
       "      <th>Turbidity</th>\n",
       "      <th>Colour</th>\n",
       "      <th>Grade</th>\n",
       "    </tr>\n",
       "  </thead>\n",
       "  <tbody>\n",
       "    <tr>\n",
       "      <th>0</th>\n",
       "      <td>6.6</td>\n",
       "      <td>35</td>\n",
       "      <td>1</td>\n",
       "      <td>0</td>\n",
       "      <td>1</td>\n",
       "      <td>0</td>\n",
       "      <td>254</td>\n",
       "      <td>2</td>\n",
       "    </tr>\n",
       "    <tr>\n",
       "      <th>1</th>\n",
       "      <td>6.6</td>\n",
       "      <td>36</td>\n",
       "      <td>0</td>\n",
       "      <td>1</td>\n",
       "      <td>0</td>\n",
       "      <td>1</td>\n",
       "      <td>253</td>\n",
       "      <td>2</td>\n",
       "    </tr>\n",
       "    <tr>\n",
       "      <th>4</th>\n",
       "      <td>6.6</td>\n",
       "      <td>37</td>\n",
       "      <td>0</td>\n",
       "      <td>0</td>\n",
       "      <td>0</td>\n",
       "      <td>0</td>\n",
       "      <td>255</td>\n",
       "      <td>1</td>\n",
       "    </tr>\n",
       "    <tr>\n",
       "      <th>5</th>\n",
       "      <td>6.6</td>\n",
       "      <td>37</td>\n",
       "      <td>1</td>\n",
       "      <td>1</td>\n",
       "      <td>1</td>\n",
       "      <td>1</td>\n",
       "      <td>255</td>\n",
       "      <td>2</td>\n",
       "    </tr>\n",
       "    <tr>\n",
       "      <th>9</th>\n",
       "      <td>6.7</td>\n",
       "      <td>45</td>\n",
       "      <td>1</td>\n",
       "      <td>1</td>\n",
       "      <td>0</td>\n",
       "      <td>0</td>\n",
       "      <td>247</td>\n",
       "      <td>1</td>\n",
       "    </tr>\n",
       "  </tbody>\n",
       "</table>\n",
       "</div>"
      ],
      "text/plain": [
       "    pH  Temprature  Taste  Odor  Fat   Turbidity  Colour  Grade\n",
       "0  6.6          35      1     0     1          0     254      2\n",
       "1  6.6          36      0     1     0          1     253      2\n",
       "4  6.6          37      0     0     0          0     255      1\n",
       "5  6.6          37      1     1     1          1     255      2\n",
       "9  6.7          45      1     1     0          0     247      1"
      ]
     },
     "execution_count": 39,
     "metadata": {},
     "output_type": "execute_result"
    }
   ],
   "source": [
    "m.head()"
   ]
  },
  {
   "cell_type": "code",
   "execution_count": 40,
   "id": "e4a9692f",
   "metadata": {},
   "outputs": [
    {
     "data": {
      "text/plain": [
       "array([[<AxesSubplot:title={'center':'pH'}>,\n",
       "        <AxesSubplot:title={'center':'Temprature'}>,\n",
       "        <AxesSubplot:title={'center':'Taste'}>],\n",
       "       [<AxesSubplot:title={'center':'Odor'}>,\n",
       "        <AxesSubplot:title={'center':'Fat '}>,\n",
       "        <AxesSubplot:title={'center':'Turbidity'}>],\n",
       "       [<AxesSubplot:title={'center':'Colour'}>,\n",
       "        <AxesSubplot:title={'center':'Grade'}>, <AxesSubplot:>]],\n",
       "      dtype=object)"
      ]
     },
     "execution_count": 40,
     "metadata": {},
     "output_type": "execute_result"
    },
    {
     "data": {
      "image/png": "[encoded data removed]",
      "text/plain": [
       "<Figure size 720x720 with 9 Axes>"
      ]
     },
     "metadata": {
      "needs_background": "light"
     },
     "output_type": "display_data"
    }
   ],
   "source": [
    "m.hist(figsize=(10,10),color=\"black\")"
   ]
  },
  {
   "cell_type": "code",
   "execution_count": 41,
   "id": "b7bafe0d",
   "metadata": {},
   "outputs": [
    {
     "data": {
      "text/plain": [
       "<AxesSubplot:>"
      ]
     },
     "execution_count": 41,
     "metadata": {},
     "output_type": "execute_result"
    },
    {
     "data": {
      "image/png": "[encoded data removed]",
      "text/plain": [
       "<Figure size 432x288 with 1 Axes>"
      ]
     },
     "metadata": {
      "needs_background": "light"
     },
     "output_type": "display_data"
    }
   ],
   "source": [
    "m.Taste.value_counts().plot(kind=\"bar\",color=\"yellow\")"
   ]
  },
  {
   "cell_type": "code",
   "execution_count": 42,
   "id": "2b37e301",
   "metadata": {},
   "outputs": [
    {
     "data": {
      "text/plain": [
       "<AxesSubplot:>"
      ]
     },
     "execution_count": 42,
     "metadata": {},
     "output_type": "execute_result"
    },
    {
     "data": {
      "image/png": "[encoded data removed]",
      "text/plain": [
       "<Figure size 432x288 with 1 Axes>"
      ]
     },
     "metadata": {
      "needs_background": "light"
     },
     "output_type": "display_data"
    }
   ],
   "source": [
    "m.Odor.value_counts().plot(kind=\"bar\",color=\"black\")"
   ]
  },
  {
   "cell_type": "markdown",
   "id": "6179ecb7",
   "metadata": {},
   "source": [
    "### Here most of the observation of bad odor of milk."
   ]
  },
  {
   "cell_type": "code",
   "execution_count": 43,
   "id": "2618b11b",
   "metadata": {},
   "outputs": [
    {
     "data": {
      "text/plain": [
       "<AxesSubplot:>"
      ]
     },
     "execution_count": 43,
     "metadata": {},
     "output_type": "execute_result"
    },
    {
     "data": {
      "image/png": "[encoded data removed]",
      "text/plain": [
       "<Figure size 432x288 with 1 Axes>"
      ]
     },
     "metadata": {
      "needs_background": "light"
     },
     "output_type": "display_data"
    }
   ],
   "source": [
    "m[\"Fat \"].value_counts().plot(kind=\"bar\",color=\"yellow\")"
   ]
  },
  {
   "cell_type": "markdown",
   "id": "91779c44",
   "metadata": {},
   "source": [
    "### Here most of the observation have High level of Fat."
   ]
  },
  {
   "cell_type": "code",
   "execution_count": 44,
   "id": "dd508177",
   "metadata": {},
   "outputs": [
    {
     "data": {
      "text/plain": [
       "<AxesSubplot:>"
      ]
     },
     "execution_count": 44,
     "metadata": {},
     "output_type": "execute_result"
    },
    {
     "data": {
      "image/png": "[encoded data removed]",
      "text/plain": [
       "<Figure size 432x288 with 1 Axes>"
      ]
     },
     "metadata": {
      "needs_background": "light"
     },
     "output_type": "display_data"
    }
   ],
   "source": [
    "m.Turbidity.value_counts().plot(kind=\"bar\",color=\"black\")"
   ]
  },
  {
   "cell_type": "markdown",
   "id": "130e6527",
   "metadata": {},
   "source": [
    "### Here most of the observation of low level of Turbidity."
   ]
  },
  {
   "cell_type": "code",
   "execution_count": 45,
   "id": "6c3db066",
   "metadata": {},
   "outputs": [
    {
     "data": {
      "text/plain": [
       "<AxesSubplot:>"
      ]
     },
     "execution_count": 45,
     "metadata": {},
     "output_type": "execute_result"
    },
    {
     "data": {
      "image/png": "[encoded data removed]",
      "text/plain": [
       "<Figure size 432x288 with 1 Axes>"
      ]
     },
     "metadata": {
      "needs_background": "light"
     },
     "output_type": "display_data"
    }
   ],
   "source": [
    "m.Colour.value_counts().plot(kind=\"bar\",color=\"yellow\")"
   ]
  },
  {
   "cell_type": "markdown",
   "id": "6fb764ca",
   "metadata": {},
   "source": [
    "### Here most of the observation of 255 level of color."
   ]
  },
  {
   "cell_type": "code",
   "execution_count": 46,
   "id": "6cc13e47",
   "metadata": {},
   "outputs": [
    {
     "data": {
      "text/plain": [
       "<AxesSubplot:xlabel='Grade'>"
      ]
     },
     "execution_count": 46,
     "metadata": {},
     "output_type": "execute_result"
    },
    {
     "data": {
      "image/png": "[encoded data removed]",
      "text/plain": [
       "<Figure size 432x288 with 1 Axes>"
      ]
     },
     "metadata": {
      "needs_background": "light"
     },
     "output_type": "display_data"
    }
   ],
   "source": [
    "m.Grade.value_counts().plot(kind=\"bar\",color=\"black\",rot=360,xlabel=\"Grade\")"
   ]
  },
  {
   "cell_type": "markdown",
   "id": "ad059e60",
   "metadata": {},
   "source": [
    "### Here most of the observation have high quality of milk."
   ]
  },
  {
   "cell_type": "code",
   "execution_count": 47,
   "id": "e71f39e5",
   "metadata": {},
   "outputs": [
    {
     "data": {
      "text/plain": [
       "<AxesSubplot:xlabel='Temprature', ylabel='Colour'>"
      ]
     },
     "execution_count": 47,
     "metadata": {},
     "output_type": "execute_result"
    },
    {
     "data": {
      "image/png": "[encoded data removed]",
      "text/plain": [
       "<Figure size 432x288 with 1 Axes>"
      ]
     },
     "metadata": {
      "needs_background": "light"
     },
     "output_type": "display_data"
    }
   ],
   "source": [
    "m.plot(kind=\"scatter\",x= \"Temprature\",y=\"Colour\",color=\"yellow\")"
   ]
  },
  {
   "cell_type": "code",
   "execution_count": 48,
   "id": "52112b67",
   "metadata": {},
   "outputs": [
    {
     "data": {
      "text/plain": [
       "1    374\n",
       "2    256\n",
       "0     50\n",
       "Name: Grade, dtype: int64"
      ]
     },
     "execution_count": 48,
     "metadata": {},
     "output_type": "execute_result"
    }
   ],
   "source": [
    "m.Grade.value_counts()"
   ]
  },
  {
   "cell_type": "markdown",
   "id": "c575c422",
   "metadata": {},
   "source": [
    "### Here data is not balanced so we have to balance it"
   ]
  },
  {
   "cell_type": "markdown",
   "id": "3d1460e2",
   "metadata": {},
   "source": [
    "# Splitting data into dependent and independent variable"
   ]
  },
  {
   "cell_type": "code",
   "execution_count": 49,
   "id": "18c6e89a",
   "metadata": {},
   "outputs": [],
   "source": [
    "x=m.drop([\"Grade\"],axis=1)\n",
    "y=m.Grade"
   ]
  },
  {
   "cell_type": "code",
   "execution_count": 50,
   "id": "4023359f",
   "metadata": {},
   "outputs": [
    {
     "data": {
      "text/html": [
       "<div>\n",
       "<style scoped>\n",
       "    .dataframe tbody tr th:only-of-type {\n",
       "        vertical-align: middle;\n",
       "    }\n",
       "\n",
       "    .dataframe tbody tr th {\n",
       "        vertical-align: top;\n",
       "    }\n",
       "\n",
       "    .dataframe thead th {\n",
       "        text-align: right;\n",
       "    }\n",
       "</style>\n",
       "<table border=\"1\" class=\"dataframe\">\n",
       "  <thead>\n",
       "    <tr style=\"text-align: right;\">\n",
       "      <th></th>\n",
       "      <th>pH</th>\n",
       "      <th>Temprature</th>\n",
       "      <th>Taste</th>\n",
       "      <th>Odor</th>\n",
       "      <th>Fat</th>\n",
       "      <th>Turbidity</th>\n",
       "      <th>Colour</th>\n",
       "    </tr>\n",
       "  </thead>\n",
       "  <tbody>\n",
       "    <tr>\n",
       "      <th>0</th>\n",
       "      <td>6.6</td>\n",
       "      <td>35</td>\n",
       "      <td>1</td>\n",
       "      <td>0</td>\n",
       "      <td>1</td>\n",
       "      <td>0</td>\n",
       "      <td>254</td>\n",
       "    </tr>\n",
       "    <tr>\n",
       "      <th>1</th>\n",
       "      <td>6.6</td>\n",
       "      <td>36</td>\n",
       "      <td>0</td>\n",
       "      <td>1</td>\n",
       "      <td>0</td>\n",
       "      <td>1</td>\n",
       "      <td>253</td>\n",
       "    </tr>\n",
       "    <tr>\n",
       "      <th>4</th>\n",
       "      <td>6.6</td>\n",
       "      <td>37</td>\n",
       "      <td>0</td>\n",
       "      <td>0</td>\n",
       "      <td>0</td>\n",
       "      <td>0</td>\n",
       "      <td>255</td>\n",
       "    </tr>\n",
       "    <tr>\n",
       "      <th>5</th>\n",
       "      <td>6.6</td>\n",
       "      <td>37</td>\n",
       "      <td>1</td>\n",
       "      <td>1</td>\n",
       "      <td>1</td>\n",
       "      <td>1</td>\n",
       "      <td>255</td>\n",
       "    </tr>\n",
       "  </tbody>\n",
       "</table>\n",
       "</div>"
      ],
      "text/plain": [
       "    pH  Temprature  Taste  Odor  Fat   Turbidity  Colour\n",
       "0  6.6          35      1     0     1          0     254\n",
       "1  6.6          36      0     1     0          1     253\n",
       "4  6.6          37      0     0     0          0     255\n",
       "5  6.6          37      1     1     1          1     255"
      ]
     },
     "execution_count": 50,
     "metadata": {},
     "output_type": "execute_result"
    }
   ],
   "source": [
    "x.head(n=4)"
   ]
  },
  {
   "cell_type": "code",
   "execution_count": 51,
   "id": "01b42e94",
   "metadata": {},
   "outputs": [
    {
     "data": {
      "text/plain": [
       "0    2\n",
       "1    2\n",
       "4    1\n",
       "5    2\n",
       "Name: Grade, dtype: int64"
      ]
     },
     "execution_count": 51,
     "metadata": {},
     "output_type": "execute_result"
    }
   ],
   "source": [
    "y.head(n=4)"
   ]
  },
  {
   "cell_type": "code",
   "execution_count": 52,
   "id": "e87c6b2d",
   "metadata": {},
   "outputs": [
    {
     "data": {
      "text/plain": [
       "1    374\n",
       "2    256\n",
       "0     50\n",
       "Name: Grade, dtype: int64"
      ]
     },
     "execution_count": 52,
     "metadata": {},
     "output_type": "execute_result"
    }
   ],
   "source": [
    "y.value_counts()"
   ]
  },
  {
   "cell_type": "markdown",
   "id": "4a3954a3",
   "metadata": {},
   "source": [
    "# Balancing the Data"
   ]
  },
  {
   "cell_type": "code",
   "execution_count": 53,
   "id": "ded1e09c",
   "metadata": {},
   "outputs": [
    {
     "name": "stdout",
     "output_type": "stream",
     "text": [
      "Requirement already satisfied: imblearn in c:\\users\\i.a.t computers llc\\anaconda3\\anaconda\\lib\\site-packages (0.0)\n",
      "Requirement already satisfied: imbalanced-learn in c:\\users\\i.a.t computers llc\\anaconda3\\anaconda\\lib\\site-packages (from imblearn) (0.10.0)\n",
      "Requirement already satisfied: scikit-learn>=1.0.2 in c:\\users\\i.a.t computers llc\\anaconda3\\anaconda\\lib\\site-packages (from imbalanced-learn->imblearn) (1.0.2)\n",
      "Requirement already satisfied: scipy>=1.3.2 in c:\\users\\i.a.t computers llc\\anaconda3\\anaconda\\lib\\site-packages (from imbalanced-learn->imblearn) (1.7.3)\n",
      "Requirement already satisfied: joblib>=1.1.1 in c:\\users\\i.a.t computers llc\\anaconda3\\anaconda\\lib\\site-packages (from imbalanced-learn->imblearn) (1.2.0)\n",
      "Requirement already satisfied: threadpoolctl>=2.0.0 in c:\\users\\i.a.t computers llc\\anaconda3\\anaconda\\lib\\site-packages (from imbalanced-learn->imblearn) (2.2.0)\n",
      "Requirement already satisfied: numpy>=1.17.3 in c:\\users\\i.a.t computers llc\\anaconda3\\anaconda\\lib\\site-packages (from imbalanced-learn->imblearn) (1.21.5)\n",
      "original dataset shape: Counter({1: 374, 2: 256, 0: 50})\n",
      "Resample dataset shape Counter({2: 374, 1: 374, 0: 374})\n"
     ]
    }
   ],
   "source": [
    "!pip install imblearn\n",
    "from collections import Counter \n",
    "from imblearn.over_sampling import SMOTE\n",
    "sm=SMOTE(random_state=42)\n",
    "X_res,Y_res=sm.fit_resample(x,y)\n",
    "\n",
    "print('original dataset shape:', Counter(y))\n",
    "print('Resample dataset shape', Counter(Y_res))"
   ]
  },
  {
   "cell_type": "markdown",
   "id": "63be4322",
   "metadata": {},
   "source": [
    "# Splitting Data into train test"
   ]
  },
  {
   "cell_type": "markdown",
   "id": "a6e31a28",
   "metadata": {},
   "source": [
    "#### Now I split variable into training and testing sets. I will perform this by importing train_test_split from the sklearn.model_selection library. It is usually a good practice to keep 70% of data in train dataset and the rest 30% in test dataset."
   ]
  },
  {
   "cell_type": "code",
   "execution_count": 54,
   "id": "504bc3ac",
   "metadata": {},
   "outputs": [],
   "source": [
    "from sklearn.model_selection import train_test_split"
   ]
  },
  {
   "cell_type": "code",
   "execution_count": 55,
   "id": "a6674038",
   "metadata": {},
   "outputs": [],
   "source": [
    "X_train, X_test, y_train, y_test = train_test_split(X_res, Y_res, test_size=0.3, random_state=90)"
   ]
  },
  {
   "cell_type": "code",
   "execution_count": 56,
   "id": "b7aaa903",
   "metadata": {},
   "outputs": [
    {
     "data": {
      "text/plain": [
       "((785, 7), (337, 7))"
      ]
     },
     "execution_count": 56,
     "metadata": {},
     "output_type": "execute_result"
    }
   ],
   "source": [
    "X_train.shape, X_test.shape"
   ]
  },
  {
   "cell_type": "code",
   "execution_count": 57,
   "id": "54457778",
   "metadata": {},
   "outputs": [
    {
     "data": {
      "text/plain": [
       "((785,), (337,))"
      ]
     },
     "execution_count": 57,
     "metadata": {},
     "output_type": "execute_result"
    }
   ],
   "source": [
    "y_train.shape, y_test.shape"
   ]
  },
  {
   "cell_type": "markdown",
   "id": "8319d78e",
   "metadata": {},
   "source": [
    "# feature scaling"
   ]
  },
  {
   "cell_type": "code",
   "execution_count": 58,
   "id": "5952b2c5",
   "metadata": {},
   "outputs": [
    {
     "data": {
      "text/plain": [
       "(785, 7)"
      ]
     },
     "execution_count": 58,
     "metadata": {},
     "output_type": "execute_result"
    }
   ],
   "source": [
    "from sklearn.preprocessing import StandardScaler\n",
    "sc=StandardScaler()\n",
    "sc.fit(X_train)\n",
    "X_train = sc.transform(X_train)\n",
    "X_test = sc.transform(X_test)\n",
    "X_train.shape"
   ]
  },
  {
   "cell_type": "markdown",
   "id": "8c949cf5",
   "metadata": {},
   "source": [
    "# Building a Machine learning Models"
   ]
  },
  {
   "cell_type": "markdown",
   "id": "77762398",
   "metadata": {},
   "source": [
    "# 1. Logistic Regression"
   ]
  },
  {
   "cell_type": "code",
   "execution_count": 60,
   "id": "17db5d73",
   "metadata": {},
   "outputs": [],
   "source": [
    "from sklearn.linear_model import LogisticRegression\n",
    "from sklearn.metrics import accuracy_score,confusion_matrix,classification_report,precision_score,recall_score,ConfusionMatrixDisplay"
   ]
  },
  {
   "cell_type": "code",
   "execution_count": 61,
   "id": "921eb441",
   "metadata": {},
   "outputs": [],
   "source": [
    "model_l=LogisticRegression()"
   ]
  },
  {
   "cell_type": "code",
   "execution_count": 62,
   "id": "9319b1a2",
   "metadata": {},
   "outputs": [
    {
     "data": {
      "text/plain": [
       "LogisticRegression()"
      ]
     },
     "execution_count": 62,
     "metadata": {},
     "output_type": "execute_result"
    }
   ],
   "source": [
    "model_l.fit(X_train,y_train)"
   ]
  },
  {
   "cell_type": "code",
   "execution_count": 63,
   "id": "414fdff1",
   "metadata": {},
   "outputs": [],
   "source": [
    "y_pred_l=model_l.predict(X_test)"
   ]
  },
  {
   "cell_type": "code",
   "execution_count": 64,
   "id": "ba20b729",
   "metadata": {},
   "outputs": [
    {
     "data": {
      "text/html": [
       "<div>\n",
       "<style scoped>\n",
       "    .dataframe tbody tr th:only-of-type {\n",
       "        vertical-align: middle;\n",
       "    }\n",
       "\n",
       "    .dataframe tbody tr th {\n",
       "        vertical-align: top;\n",
       "    }\n",
       "\n",
       "    .dataframe thead th {\n",
       "        text-align: right;\n",
       "    }\n",
       "</style>\n",
       "<table border=\"1\" class=\"dataframe\">\n",
       "  <thead>\n",
       "    <tr style=\"text-align: right;\">\n",
       "      <th></th>\n",
       "      <th>0</th>\n",
       "    </tr>\n",
       "    <tr>\n",
       "      <th>Grade</th>\n",
       "      <th></th>\n",
       "    </tr>\n",
       "  </thead>\n",
       "  <tbody>\n",
       "    <tr>\n",
       "      <th>1</th>\n",
       "      <td>1</td>\n",
       "    </tr>\n",
       "    <tr>\n",
       "      <th>0</th>\n",
       "      <td>0</td>\n",
       "    </tr>\n",
       "    <tr>\n",
       "      <th>0</th>\n",
       "      <td>0</td>\n",
       "    </tr>\n",
       "    <tr>\n",
       "      <th>1</th>\n",
       "      <td>1</td>\n",
       "    </tr>\n",
       "    <tr>\n",
       "      <th>1</th>\n",
       "      <td>1</td>\n",
       "    </tr>\n",
       "  </tbody>\n",
       "</table>\n",
       "</div>"
      ],
      "text/plain": [
       "       0\n",
       "Grade   \n",
       "1      1\n",
       "0      0\n",
       "0      0\n",
       "1      1\n",
       "1      1"
      ]
     },
     "execution_count": 64,
     "metadata": {},
     "output_type": "execute_result"
    }
   ],
   "source": [
    "df=pd.DataFrame(y_pred_l,y_test)\n",
    "df.head()"
   ]
  },
  {
   "cell_type": "code",
   "execution_count": 65,
   "id": "50c90077",
   "metadata": {},
   "outputs": [
    {
     "data": {
      "text/plain": [
       "0.9851632047477745"
      ]
     },
     "execution_count": 65,
     "metadata": {},
     "output_type": "execute_result"
    }
   ],
   "source": [
    "accuracy_score(y_test,y_pred_l)"
   ]
  },
  {
   "cell_type": "code",
   "execution_count": 66,
   "id": "e6be5626",
   "metadata": {},
   "outputs": [
    {
     "data": {
      "text/plain": [
       "0.9857614626208481"
      ]
     },
     "execution_count": 66,
     "metadata": {},
     "output_type": "execute_result"
    }
   ],
   "source": [
    "precision_score(y_test,y_pred_l,average=\"weighted\")"
   ]
  },
  {
   "cell_type": "code",
   "execution_count": 67,
   "id": "6555f41b",
   "metadata": {},
   "outputs": [
    {
     "data": {
      "text/plain": [
       "0.9851632047477745"
      ]
     },
     "execution_count": 67,
     "metadata": {},
     "output_type": "execute_result"
    }
   ],
   "source": [
    "recall_score(y_test,y_pred_l,average=\"weighted\")"
   ]
  },
  {
   "cell_type": "code",
   "execution_count": 68,
   "id": "571f9158",
   "metadata": {},
   "outputs": [
    {
     "data": {
      "text/plain": [
       "array([[ 96,   2,   0],\n",
       "       [  0, 119,   0],\n",
       "       [  0,   3, 117]], dtype=int64)"
      ]
     },
     "execution_count": 68,
     "metadata": {},
     "output_type": "execute_result"
    }
   ],
   "source": [
    "confusion_matrix(y_test,y_pred_l)"
   ]
  },
  {
   "cell_type": "code",
   "execution_count": 69,
   "id": "cf172e3a",
   "metadata": {},
   "outputs": [
    {
     "data": {
      "text/plain": [
       "<sklearn.metrics._plot.confusion_matrix.ConfusionMatrixDisplay at 0x29e9287dfd0>"
      ]
     },
     "execution_count": 69,
     "metadata": {},
     "output_type": "execute_result"
    },
    {
     "data": {
      "image/png": "[encoded data removed]",
      "text/plain": [
       "<Figure size 432x288 with 2 Axes>"
      ]
     },
     "metadata": {
      "needs_background": "light"
     },
     "output_type": "display_data"
    }
   ],
   "source": [
    "ConfusionMatrixDisplay.from_predictions(y_test,y_pred_l)"
   ]
  },
  {
   "cell_type": "code",
   "execution_count": 70,
   "id": "a3aa2a60",
   "metadata": {},
   "outputs": [
    {
     "name": "stdout",
     "output_type": "stream",
     "text": [
      "Classification Report Model :\n",
      "\n",
      "              precision    recall  f1-score   support\n",
      "\n",
      "           0       1.00      0.98      0.99        98\n",
      "           1       0.96      1.00      0.98       119\n",
      "           2       1.00      0.97      0.99       120\n",
      "\n",
      "    accuracy                           0.99       337\n",
      "   macro avg       0.99      0.98      0.99       337\n",
      "weighted avg       0.99      0.99      0.99       337\n",
      "\n"
     ]
    }
   ],
   "source": [
    "# classification Report model\n",
    "\n",
    "classes = ['0', '1','2']\n",
    "\n",
    "print('Classification Report Model :\\n')\n",
    "print(classification_report(y_test,y_pred_l, target_names= classes))"
   ]
  },
  {
   "cell_type": "markdown",
   "id": "be28aa06",
   "metadata": {},
   "source": [
    "# 2.Decison Tree"
   ]
  },
  {
   "cell_type": "code",
   "execution_count": 71,
   "id": "816e6d28",
   "metadata": {},
   "outputs": [],
   "source": [
    "from sklearn.tree import DecisionTreeClassifier\n",
    "from sklearn.metrics import accuracy_score,confusion_matrix,classification_report"
   ]
  },
  {
   "cell_type": "code",
   "execution_count": 72,
   "id": "42e089e8",
   "metadata": {},
   "outputs": [],
   "source": [
    "dt = DecisionTreeClassifier()"
   ]
  },
  {
   "cell_type": "code",
   "execution_count": 73,
   "id": "4deacefc",
   "metadata": {},
   "outputs": [
    {
     "data": {
      "text/plain": [
       "DecisionTreeClassifier()"
      ]
     },
     "execution_count": 73,
     "metadata": {},
     "output_type": "execute_result"
    }
   ],
   "source": [
    "dt.fit(X_train,y_train)"
   ]
  },
  {
   "cell_type": "code",
   "execution_count": 74,
   "id": "438e005d",
   "metadata": {},
   "outputs": [],
   "source": [
    "y_pred=dt.predict(X_test)"
   ]
  },
  {
   "cell_type": "code",
   "execution_count": 75,
   "id": "e264d057",
   "metadata": {},
   "outputs": [
    {
     "data": {
      "text/plain": [
       "0.9940652818991098"
      ]
     },
     "execution_count": 75,
     "metadata": {},
     "output_type": "execute_result"
    }
   ],
   "source": [
    "accuracy_score(y_test,y_pred)"
   ]
  },
  {
   "cell_type": "code",
   "execution_count": 76,
   "id": "6cc43c43",
   "metadata": {},
   "outputs": [
    {
     "data": {
      "text/plain": [
       "0.9941199832149388"
      ]
     },
     "execution_count": 76,
     "metadata": {},
     "output_type": "execute_result"
    }
   ],
   "source": [
    "precision_score(y_test,y_pred,average=\"weighted\")"
   ]
  },
  {
   "cell_type": "code",
   "execution_count": 77,
   "id": "333ab5f0",
   "metadata": {},
   "outputs": [
    {
     "data": {
      "text/plain": [
       "0.9940652818991098"
      ]
     },
     "execution_count": 77,
     "metadata": {},
     "output_type": "execute_result"
    }
   ],
   "source": [
    "recall_score(y_test,y_pred,average=\"weighted\")"
   ]
  },
  {
   "cell_type": "code",
   "execution_count": 78,
   "id": "c972b15c",
   "metadata": {},
   "outputs": [
    {
     "data": {
      "text/plain": [
       "<sklearn.metrics._plot.confusion_matrix.ConfusionMatrixDisplay at 0x29e92219bb0>"
      ]
     },
     "execution_count": 78,
     "metadata": {},
     "output_type": "execute_result"
    },
    {
     "data": {
      "image/png": "[encoded data removed]",
      "text/plain": [
       "<Figure size 432x288 with 2 Axes>"
      ]
     },
     "metadata": {
      "needs_background": "light"
     },
     "output_type": "display_data"
    }
   ],
   "source": [
    "ConfusionMatrixDisplay.from_predictions(y_test,y_pred)"
   ]
  },
  {
   "cell_type": "code",
   "execution_count": 79,
   "id": "c7670b8c",
   "metadata": {},
   "outputs": [
    {
     "name": "stdout",
     "output_type": "stream",
     "text": [
      "Classification Report Model :\n",
      "\n",
      "              precision    recall  f1-score   support\n",
      "\n",
      "           0       0.99      1.00      0.99        98\n",
      "           1       0.99      1.00      1.00       119\n",
      "           2       1.00      0.98      0.99       120\n",
      "\n",
      "    accuracy                           0.99       337\n",
      "   macro avg       0.99      0.99      0.99       337\n",
      "weighted avg       0.99      0.99      0.99       337\n",
      "\n"
     ]
    }
   ],
   "source": [
    "# classification Report model\n",
    "\n",
    "classes = ['0', '1','2']\n",
    "\n",
    "print('Classification Report Model :\\n')\n",
    "print(classification_report(y_test,y_pred, target_names= classes))"
   ]
  },
  {
   "cell_type": "code",
   "execution_count": 80,
   "id": "5f04af88",
   "metadata": {},
   "outputs": [
    {
     "data": {
      "text/plain": [
       "Index(['pH', 'Temprature', 'Taste', 'Odor', 'Fat ', 'Turbidity', 'Colour',\n",
       "       'Grade'],\n",
       "      dtype='object')"
      ]
     },
     "execution_count": 80,
     "metadata": {},
     "output_type": "execute_result"
    }
   ],
   "source": [
    "m.columns"
   ]
  },
  {
   "cell_type": "code",
   "execution_count": 81,
   "id": "521d4fa3",
   "metadata": {},
   "outputs": [
    {
     "data": {
      "text/plain": [
       "array([2, 1, 0], dtype=int64)"
      ]
     },
     "execution_count": 81,
     "metadata": {},
     "output_type": "execute_result"
    }
   ],
   "source": [
    "m.Grade.unique()"
   ]
  },
  {
   "cell_type": "code",
   "execution_count": 82,
   "id": "c8927c33",
   "metadata": {},
   "outputs": [],
   "source": [
    "feature_name=['pH', 'Temprature', 'Taste', 'Odor', 'Fat', 'Turbidity', 'Color']\n",
    "ca=[\"0\",\"1\",\"2\"]"
   ]
  },
  {
   "cell_type": "markdown",
   "id": "9ffe4a15",
   "metadata": {},
   "source": [
    "# Plotting Decision tree"
   ]
  },
  {
   "cell_type": "code",
   "execution_count": 84,
   "id": "fbc90800",
   "metadata": {},
   "outputs": [],
   "source": [
    "from sklearn.tree import export_text\n",
    "from sklearn import tree"
   ]
  },
  {
   "cell_type": "code",
   "execution_count": 85,
   "id": "1170b35a",
   "metadata": {},
   "outputs": [
    {
     "name": "stdout",
     "output_type": "stream",
     "text": [
      "|--- feature_1 <= 0.31\n",
      "|   |--- feature_4 <= -0.24\n",
      "|   |   |--- feature_3 <= 0.28\n",
      "|   |   |   |--- class: 1\n",
      "|   |   |--- feature_3 >  0.28\n",
      "|   |   |   |--- feature_5 <= 0.28\n",
      "|   |   |   |   |--- class: 1\n",
      "|   |   |   |--- feature_5 >  0.28\n",
      "|   |   |   |   |--- class: 0\n",
      "|   |--- feature_4 >  -0.24\n",
      "|   |   |--- feature_3 <= 0.28\n",
      "|   |   |   |--- feature_0 <= -0.89\n",
      "|   |   |   |   |--- class: 1\n",
      "|   |   |   |--- feature_0 >  -0.89\n",
      "|   |   |   |   |--- feature_0 <= 0.88\n",
      "|   |   |   |   |   |--- feature_2 <= 0.13\n",
      "|   |   |   |   |   |   |--- class: 1\n",
      "|   |   |   |   |   |--- feature_2 >  0.13\n",
      "|   |   |   |   |   |   |--- class: 2\n",
      "|   |   |   |   |--- feature_0 >  0.88\n",
      "|   |   |   |   |   |--- feature_1 <= -0.28\n",
      "|   |   |   |   |   |   |--- class: 1\n",
      "|   |   |   |   |   |--- feature_1 >  -0.28\n",
      "|   |   |   |   |   |   |--- feature_2 <= 0.13\n",
      "|   |   |   |   |   |   |   |--- class: 1\n",
      "|   |   |   |   |   |   |--- feature_2 >  0.13\n",
      "|   |   |   |   |   |   |   |--- class: 2\n",
      "|   |   |--- feature_3 >  0.28\n",
      "|   |   |   |--- feature_6 <= -0.82\n",
      "|   |   |   |   |--- feature_0 <= 0.82\n",
      "|   |   |   |   |   |--- feature_0 <= -0.04\n",
      "|   |   |   |   |   |   |--- feature_2 <= 0.13\n",
      "|   |   |   |   |   |   |   |--- class: 0\n",
      "|   |   |   |   |   |   |--- feature_2 >  0.13\n",
      "|   |   |   |   |   |   |   |--- class: 2\n",
      "|   |   |   |   |   |--- feature_0 >  -0.04\n",
      "|   |   |   |   |   |   |--- class: 1\n",
      "|   |   |   |   |--- feature_0 >  0.82\n",
      "|   |   |   |   |   |--- class: 2\n",
      "|   |   |   |--- feature_6 >  -0.82\n",
      "|   |   |   |   |--- class: 2\n",
      "|--- feature_1 >  0.31\n",
      "|   |--- class: 0\n",
      "\n"
     ]
    }
   ],
   "source": [
    "text_representation=tree.export_text(dt)\n",
    "print(text_representation)"
   ]
  },
  {
   "cell_type": "code",
   "execution_count": 86,
   "id": "866f3742",
   "metadata": {},
   "outputs": [],
   "source": [
    "from sklearn.tree import plot_tree"
   ]
  },
  {
   "cell_type": "code",
   "execution_count": 87,
   "id": "d715af5b",
   "metadata": {},
   "outputs": [
    {
     "data": {
      "text/html": [
       "<div>\n",
       "<style scoped>\n",
       "    .dataframe tbody tr th:only-of-type {\n",
       "        vertical-align: middle;\n",
       "    }\n",
       "\n",
       "    .dataframe tbody tr th {\n",
       "        vertical-align: top;\n",
       "    }\n",
       "\n",
       "    .dataframe thead th {\n",
       "        text-align: right;\n",
       "    }\n",
       "</style>\n",
       "<table border=\"1\" class=\"dataframe\">\n",
       "  <thead>\n",
       "    <tr style=\"text-align: right;\">\n",
       "      <th></th>\n",
       "      <th>pH</th>\n",
       "      <th>Temprature</th>\n",
       "      <th>Taste</th>\n",
       "      <th>Odor</th>\n",
       "      <th>Fat</th>\n",
       "      <th>Turbidity</th>\n",
       "      <th>Colour</th>\n",
       "      <th>Grade</th>\n",
       "    </tr>\n",
       "  </thead>\n",
       "  <tbody>\n",
       "    <tr>\n",
       "      <th>0</th>\n",
       "      <td>6.6</td>\n",
       "      <td>35</td>\n",
       "      <td>1</td>\n",
       "      <td>0</td>\n",
       "      <td>1</td>\n",
       "      <td>0</td>\n",
       "      <td>254</td>\n",
       "      <td>2</td>\n",
       "    </tr>\n",
       "    <tr>\n",
       "      <th>1</th>\n",
       "      <td>6.6</td>\n",
       "      <td>36</td>\n",
       "      <td>0</td>\n",
       "      <td>1</td>\n",
       "      <td>0</td>\n",
       "      <td>1</td>\n",
       "      <td>253</td>\n",
       "      <td>2</td>\n",
       "    </tr>\n",
       "  </tbody>\n",
       "</table>\n",
       "</div>"
      ],
      "text/plain": [
       "    pH  Temprature  Taste  Odor  Fat   Turbidity  Colour  Grade\n",
       "0  6.6          35      1     0     1          0     254      2\n",
       "1  6.6          36      0     1     0          1     253      2"
      ]
     },
     "execution_count": 87,
     "metadata": {},
     "output_type": "execute_result"
    }
   ],
   "source": [
    "m.head(n=2)"
   ]
  },
  {
   "cell_type": "code",
   "execution_count": 88,
   "id": "bdf3a02f",
   "metadata": {},
   "outputs": [
    {
     "data": {
      "image/png": "[encoded data removed]",
      "text/plain": [
       "<Figure size 864x1080 with 1 Axes>"
      ]
     },
     "metadata": {
      "needs_background": "light"
     },
     "output_type": "display_data"
    }
   ],
   "source": [
    "plt.figure(figsize=(12,15))\n",
    "a=plot_tree(dt,max_depth=3,fontsize=9,feature_names=feature_name,class_names=ca,filled=True)\n",
    "plt.show()"
   ]
  },
  {
   "cell_type": "markdown",
   "id": "54a468a9",
   "metadata": {},
   "source": [
    "# 3.Neive Bayes Classifier"
   ]
  },
  {
   "cell_type": "code",
   "execution_count": 89,
   "id": "f9083f84",
   "metadata": {},
   "outputs": [],
   "source": [
    "from sklearn.naive_bayes import GaussianNB"
   ]
  },
  {
   "cell_type": "code",
   "execution_count": 90,
   "id": "439fdf52",
   "metadata": {},
   "outputs": [],
   "source": [
    "model_nb=GaussianNB()"
   ]
  },
  {
   "cell_type": "code",
   "execution_count": 91,
   "id": "b060679f",
   "metadata": {},
   "outputs": [
    {
     "data": {
      "text/plain": [
       "GaussianNB()"
      ]
     },
     "execution_count": 91,
     "metadata": {},
     "output_type": "execute_result"
    }
   ],
   "source": [
    "model_nb.fit(X_train,y_train)"
   ]
  },
  {
   "cell_type": "code",
   "execution_count": 92,
   "id": "5d76f7af",
   "metadata": {},
   "outputs": [],
   "source": [
    "y_predNb=model_nb.predict(X_test)"
   ]
  },
  {
   "cell_type": "code",
   "execution_count": 93,
   "id": "315b8710",
   "metadata": {},
   "outputs": [
    {
     "data": {
      "text/plain": [
       "0.6409495548961425"
      ]
     },
     "execution_count": 93,
     "metadata": {},
     "output_type": "execute_result"
    }
   ],
   "source": [
    "accuracy_score(y_predNb,y_test)"
   ]
  },
  {
   "cell_type": "code",
   "execution_count": 94,
   "id": "f0fd505f",
   "metadata": {},
   "outputs": [
    {
     "data": {
      "text/plain": [
       "0.8070217404469207"
      ]
     },
     "execution_count": 94,
     "metadata": {},
     "output_type": "execute_result"
    }
   ],
   "source": [
    "precision_score(y_predNb,y_test,average=\"weighted\")"
   ]
  },
  {
   "cell_type": "code",
   "execution_count": 95,
   "id": "e31c5428",
   "metadata": {},
   "outputs": [
    {
     "data": {
      "text/plain": [
       "0.6409495548961425"
      ]
     },
     "execution_count": 95,
     "metadata": {},
     "output_type": "execute_result"
    }
   ],
   "source": [
    "recall_score(y_predNb,y_test,average=\"weighted\")"
   ]
  },
  {
   "cell_type": "code",
   "execution_count": 96,
   "id": "41914911",
   "metadata": {},
   "outputs": [
    {
     "data": {
      "text/plain": [
       "<sklearn.metrics._plot.confusion_matrix.ConfusionMatrixDisplay at 0x29e94a4da60>"
      ]
     },
     "execution_count": 96,
     "metadata": {},
     "output_type": "execute_result"
    },
    {
     "data": {
      "image/png": "[encoded data removed]",
      "text/plain": [
       "<Figure size 432x288 with 2 Axes>"
      ]
     },
     "metadata": {
      "needs_background": "light"
     },
     "output_type": "display_data"
    }
   ],
   "source": [
    "ConfusionMatrixDisplay.from_predictions(y_test,y_predNb)"
   ]
  },
  {
   "cell_type": "code",
   "execution_count": 97,
   "id": "64ef198f",
   "metadata": {},
   "outputs": [
    {
     "name": "stdout",
     "output_type": "stream",
     "text": [
      "Classification Report Model :\n",
      "\n",
      "              precision    recall  f1-score   support\n",
      "\n",
      "           0       0.74      0.47      0.58        98\n",
      "           1       0.96      0.43      0.59       119\n",
      "           2       0.54      0.99      0.70       120\n",
      "\n",
      "    accuracy                           0.64       337\n",
      "   macro avg       0.75      0.63      0.62       337\n",
      "weighted avg       0.75      0.64      0.62       337\n",
      "\n"
     ]
    }
   ],
   "source": [
    "# classification Report model\n",
    "\n",
    "classes = ['0', '1','2']\n",
    "\n",
    "print('Classification Report Model :\\n')\n",
    "print(classification_report(y_test,y_predNb, target_names= classes))"
   ]
  },
  {
   "cell_type": "markdown",
   "id": "c7a343b6",
   "metadata": {},
   "source": [
    "# 4.SVM"
   ]
  },
  {
   "cell_type": "code",
   "execution_count": 100,
   "id": "974d5264",
   "metadata": {},
   "outputs": [],
   "source": [
    "from sklearn.svm import SVC"
   ]
  },
  {
   "cell_type": "code",
   "execution_count": 101,
   "id": "120eb165",
   "metadata": {},
   "outputs": [],
   "source": [
    "model_sv=SVC()"
   ]
  },
  {
   "cell_type": "code",
   "execution_count": 102,
   "id": "15a92692",
   "metadata": {},
   "outputs": [
    {
     "data": {
      "text/plain": [
       "SVC()"
      ]
     },
     "execution_count": 102,
     "metadata": {},
     "output_type": "execute_result"
    }
   ],
   "source": [
    "model_sv.fit(X_train,y_train)"
   ]
  },
  {
   "cell_type": "code",
   "execution_count": 103,
   "id": "923cddb4",
   "metadata": {},
   "outputs": [],
   "source": [
    "y_predsv=model_sv.predict(X_test)"
   ]
  },
  {
   "cell_type": "code",
   "execution_count": 104,
   "id": "88998f2f",
   "metadata": {},
   "outputs": [
    {
     "data": {
      "text/plain": [
       "0.9970326409495549"
      ]
     },
     "execution_count": 104,
     "metadata": {},
     "output_type": "execute_result"
    }
   ],
   "source": [
    "accuracy_score(y_test,y_predsv)"
   ]
  },
  {
   "cell_type": "code",
   "execution_count": 105,
   "id": "5101ad03",
   "metadata": {},
   "outputs": [
    {
     "data": {
      "text/plain": [
       "0.9970626142732969"
      ]
     },
     "execution_count": 105,
     "metadata": {},
     "output_type": "execute_result"
    }
   ],
   "source": [
    "precision_score(y_test,y_predsv,average=\"weighted\")"
   ]
  },
  {
   "cell_type": "code",
   "execution_count": 106,
   "id": "7c5850d8",
   "metadata": {},
   "outputs": [
    {
     "data": {
      "text/plain": [
       "0.9970326409495549"
      ]
     },
     "execution_count": 106,
     "metadata": {},
     "output_type": "execute_result"
    }
   ],
   "source": [
    "recall_score(y_test,y_predsv,average=\"weighted\")"
   ]
  },
  {
   "cell_type": "code",
   "execution_count": 107,
   "id": "2fb5f3ea",
   "metadata": {},
   "outputs": [
    {
     "data": {
      "text/plain": [
       "<sklearn.metrics._plot.confusion_matrix.ConfusionMatrixDisplay at 0x29e94b90d30>"
      ]
     },
     "execution_count": 107,
     "metadata": {},
     "output_type": "execute_result"
    },
    {
     "data": {
      "image/png": "[encoded data removed]",
      "text/plain": [
       "<Figure size 432x288 with 2 Axes>"
      ]
     },
     "metadata": {
      "needs_background": "light"
     },
     "output_type": "display_data"
    }
   ],
   "source": [
    "ConfusionMatrixDisplay.from_predictions(y_test,y_predsv)"
   ]
  },
  {
   "cell_type": "code",
   "execution_count": 108,
   "id": "cfefb170",
   "metadata": {},
   "outputs": [
    {
     "name": "stdout",
     "output_type": "stream",
     "text": [
      "Classification Report Model :\n",
      "\n",
      "              precision    recall  f1-score   support\n",
      "\n",
      "           0       0.99      1.00      0.99        98\n",
      "           1       1.00      1.00      1.00       119\n",
      "           2       1.00      0.99      1.00       120\n",
      "\n",
      "    accuracy                           1.00       337\n",
      "   macro avg       1.00      1.00      1.00       337\n",
      "weighted avg       1.00      1.00      1.00       337\n",
      "\n"
     ]
    }
   ],
   "source": [
    "# classification Report model\n",
    "\n",
    "classes = ['0', '1','2']\n",
    "\n",
    "print('Classification Report Model :\\n')\n",
    "print(classification_report(y_test,y_predsv, target_names= classes))"
   ]
  },
  {
   "cell_type": "markdown",
   "id": "105316b8",
   "metadata": {},
   "source": [
    "# 5.Random Forest"
   ]
  },
  {
   "cell_type": "code",
   "execution_count": 109,
   "id": "dcc8b81d",
   "metadata": {},
   "outputs": [],
   "source": [
    "from sklearn.ensemble import RandomForestClassifier"
   ]
  },
  {
   "cell_type": "code",
   "execution_count": 110,
   "id": "83afe459",
   "metadata": {},
   "outputs": [],
   "source": [
    "model_rf=RandomForestClassifier()"
   ]
  },
  {
   "cell_type": "code",
   "execution_count": 111,
   "id": "8c090bc2",
   "metadata": {},
   "outputs": [
    {
     "data": {
      "text/plain": [
       "RandomForestClassifier()"
      ]
     },
     "execution_count": 111,
     "metadata": {},
     "output_type": "execute_result"
    }
   ],
   "source": [
    "model_rf.fit(X_train,y_train)"
   ]
  },
  {
   "cell_type": "code",
   "execution_count": 112,
   "id": "5d54ebc9",
   "metadata": {},
   "outputs": [],
   "source": [
    "y_predrf=model_rf.predict(X_test)"
   ]
  },
  {
   "cell_type": "code",
   "execution_count": 113,
   "id": "f4539e47",
   "metadata": {},
   "outputs": [
    {
     "data": {
      "text/plain": [
       "0.9970326409495549"
      ]
     },
     "execution_count": 113,
     "metadata": {},
     "output_type": "execute_result"
    }
   ],
   "source": [
    "accuracy_score(y_predrf,y_test)"
   ]
  },
  {
   "cell_type": "code",
   "execution_count": 114,
   "id": "0e7684a0",
   "metadata": {},
   "outputs": [
    {
     "data": {
      "text/plain": [
       "0.9970573689416419"
      ]
     },
     "execution_count": 114,
     "metadata": {},
     "output_type": "execute_result"
    }
   ],
   "source": [
    "precision_score(y_predrf,y_test,average=\"weighted\")"
   ]
  },
  {
   "cell_type": "code",
   "execution_count": 115,
   "id": "016c1c58",
   "metadata": {},
   "outputs": [
    {
     "data": {
      "text/plain": [
       "0.9970326409495549"
      ]
     },
     "execution_count": 115,
     "metadata": {},
     "output_type": "execute_result"
    }
   ],
   "source": [
    "recall_score(y_predrf,y_test,average=\"weighted\")"
   ]
  },
  {
   "cell_type": "code",
   "execution_count": 116,
   "id": "3a9e9faf",
   "metadata": {},
   "outputs": [
    {
     "data": {
      "text/plain": [
       "<sklearn.metrics._plot.confusion_matrix.ConfusionMatrixDisplay at 0x29e94a99550>"
      ]
     },
     "execution_count": 116,
     "metadata": {},
     "output_type": "execute_result"
    },
    {
     "data": {
      "image/png": "[encoded data removed]",
      "text/plain": [
       "<Figure size 432x288 with 2 Axes>"
      ]
     },
     "metadata": {
      "needs_background": "light"
     },
     "output_type": "display_data"
    }
   ],
   "source": [
    "ConfusionMatrixDisplay.from_predictions(y_test,y_predrf)"
   ]
  },
  {
   "cell_type": "code",
   "execution_count": 117,
   "id": "845e4668",
   "metadata": {},
   "outputs": [
    {
     "name": "stdout",
     "output_type": "stream",
     "text": [
      "Classification Report Model :\n",
      "\n",
      "              precision    recall  f1-score   support\n",
      "\n",
      "           0       1.00      1.00      1.00        98\n",
      "           1       0.99      1.00      1.00       119\n",
      "           2       1.00      0.99      1.00       120\n",
      "\n",
      "    accuracy                           1.00       337\n",
      "   macro avg       1.00      1.00      1.00       337\n",
      "weighted avg       1.00      1.00      1.00       337\n",
      "\n"
     ]
    }
   ],
   "source": [
    "# classification Report model\n",
    "\n",
    "classes = ['0', '1','2']\n",
    "\n",
    "print('Classification Report Model :\\n')\n",
    "print(classification_report(y_test,y_predrf, target_names= classes))"
   ]
  },
  {
   "cell_type": "markdown",
   "id": "16299fe9",
   "metadata": {},
   "source": [
    "# 6.Gradient Boosting"
   ]
  },
  {
   "cell_type": "code",
   "execution_count": 118,
   "id": "d2b55911",
   "metadata": {},
   "outputs": [],
   "source": [
    "from sklearn.ensemble import GradientBoostingClassifier"
   ]
  },
  {
   "cell_type": "code",
   "execution_count": 119,
   "id": "0638fe65",
   "metadata": {},
   "outputs": [],
   "source": [
    "md=GradientBoostingClassifier()"
   ]
  },
  {
   "cell_type": "code",
   "execution_count": 120,
   "id": "f3901409",
   "metadata": {},
   "outputs": [
    {
     "data": {
      "text/plain": [
       "GradientBoostingClassifier()"
      ]
     },
     "execution_count": 120,
     "metadata": {},
     "output_type": "execute_result"
    }
   ],
   "source": [
    "md.fit(X_train,y_train)"
   ]
  },
  {
   "cell_type": "code",
   "execution_count": 121,
   "id": "f59b07e7",
   "metadata": {},
   "outputs": [],
   "source": [
    "y_predgb=md.predict(X_test)"
   ]
  },
  {
   "cell_type": "code",
   "execution_count": 122,
   "id": "d2be0197",
   "metadata": {},
   "outputs": [
    {
     "data": {
      "text/plain": [
       "0.9940652818991098"
      ]
     },
     "execution_count": 122,
     "metadata": {},
     "output_type": "execute_result"
    }
   ],
   "source": [
    "accuracy_score(y_predgb,y_test)"
   ]
  },
  {
   "cell_type": "code",
   "execution_count": 123,
   "id": "2077a841",
   "metadata": {},
   "outputs": [
    {
     "data": {
      "text/plain": [
       "0.9941202890651809"
      ]
     },
     "execution_count": 123,
     "metadata": {},
     "output_type": "execute_result"
    }
   ],
   "source": [
    "precision_score(y_predgb,y_test,average=\"weighted\")"
   ]
  },
  {
   "cell_type": "code",
   "execution_count": 124,
   "id": "d2eac316",
   "metadata": {},
   "outputs": [
    {
     "data": {
      "text/plain": [
       "0.9940652818991098"
      ]
     },
     "execution_count": 124,
     "metadata": {},
     "output_type": "execute_result"
    }
   ],
   "source": [
    "recall_score(y_predgb,y_test,average=\"weighted\")"
   ]
  },
  {
   "cell_type": "code",
   "execution_count": 125,
   "id": "47602b12",
   "metadata": {},
   "outputs": [
    {
     "data": {
      "text/plain": [
       "<sklearn.metrics._plot.confusion_matrix.ConfusionMatrixDisplay at 0x29e94d092e0>"
      ]
     },
     "execution_count": 125,
     "metadata": {},
     "output_type": "execute_result"
    },
    {
     "data": {
      "image/png": "[encoded data removed]",
      "text/plain": [
       "<Figure size 432x288 with 2 Axes>"
      ]
     },
     "metadata": {
      "needs_background": "light"
     },
     "output_type": "display_data"
    }
   ],
   "source": [
    "ConfusionMatrixDisplay.from_predictions(y_test,y_predgb)"
   ]
  },
  {
   "cell_type": "code",
   "execution_count": 126,
   "id": "874fb3ca",
   "metadata": {},
   "outputs": [
    {
     "name": "stdout",
     "output_type": "stream",
     "text": [
      "Classification Report Model :\n",
      "\n",
      "              precision    recall  f1-score   support\n",
      "\n",
      "           0       1.00      0.99      0.99        98\n",
      "           1       0.98      1.00      0.99       119\n",
      "           2       1.00      0.99      1.00       120\n",
      "\n",
      "    accuracy                           0.99       337\n",
      "   macro avg       0.99      0.99      0.99       337\n",
      "weighted avg       0.99      0.99      0.99       337\n",
      "\n"
     ]
    }
   ],
   "source": [
    "# classification Report model\n",
    "\n",
    "classes = ['0', '1','2']\n",
    "\n",
    "print('Classification Report Model :\\n')\n",
    "print(classification_report(y_test,y_predgb, target_names= classes))"
   ]
  },
  {
   "cell_type": "markdown",
   "id": "4109deb5",
   "metadata": {},
   "source": [
    "# Observation"
   ]
  },
  {
   "cell_type": "code",
   "execution_count": null,
   "id": "be8a124f",
   "metadata": {},
   "outputs": [],
   "source": [
    "1. Logistic Regression  :\n",
    "    Accuracy : 0.9851632047477745\n",
    "    Precision :  0.9857632047408481\n",
    "    Recall : 0.9851632047477745\n",
    "\n",
    "\n",
    "2. Decison Tree Clasifier :\n",
    "    Accuracy :  0.9940979228486647\n",
    "    Precision : 0.9941977150504118\n",
    "    Recall : 0.9940979228486647 \n",
    "\n",
    "\n",
    "3. Neive Bayes algorithm :\n",
    "    Accuracy : 0.6409495548961425\n",
    "    Precision : 0.8070217404469207\n",
    "    Recall : 0.6409495548961425 \n",
    "\n",
    "\n",
    "4. SVM Classifier :\n",
    "    Accuracy : 0.9970326409495549\n",
    "    Precision : 0.9970626142732969\n",
    "    Recall :0.9970326409495549\n",
    "\n",
    "\n",
    "5. Random Forest Classifier :\n",
    "    Accuracy : 0.9970326409495549\n",
    "    Precision : 0.9970573689416419 \n",
    "    Recall :0.9970326409495549 \n",
    "\n",
    "\n",
    "6. Gradient Boosting :\n",
    "    Accuracy : 0.9940652818991098\n",
    "    Precision : 0.9941202890651809\n",
    "    Recall : 0.9940652818991098"
   ]
  },
  {
   "cell_type": "markdown",
   "id": "60391e43",
   "metadata": {},
   "source": [
    "# Canclusion"
   ]
  },
  {
   "cell_type": "markdown",
   "id": "6e39b9ce",
   "metadata": {},
   "source": [
    "#### Accuracy_Score(0.9970326409495549), Precision_Score(0.9970573689416419) and recall_Score(0.9970326409495549) for Random Forest Classifier and Gradient Boosting is maximum. "
   ]
  },
  {
   "cell_type": "markdown",
   "id": "ae5b5f13",
   "metadata": {},
   "source": [
    "# Thank You"
   ]
  },
  {
   "cell_type": "code",
   "execution_count": null,
   "id": "b715d852",
   "metadata": {},
   "outputs": [],
   "source": []
  }
 ],
 "metadata": {
  "kernelspec": {
   "display_name": "Python 3 (ipykernel)",
   "language": "python",
   "name": "python3"
  },
  "language_info": {
   "codemirror_mode": {
    "name": "ipython",
    "version": 3
   },
   "file_extension": ".py",
   "mimetype": "text/x-python",
   "name": "python",
   "nbconvert_exporter": "python",
   "pygments_lexer": "ipython3",
   "version": "3.9.12"
  }
 },
 "nbformat": 4,
 "nbformat_minor": 5
}
